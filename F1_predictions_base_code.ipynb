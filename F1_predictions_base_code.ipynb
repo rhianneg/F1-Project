{
  "cells": [
    {
      "cell_type": "code",
      "execution_count": 1,
      "metadata": {
        "colab": {
          "base_uri": "https://localhost:8080/"
        },
        "id": "CrYQ9A8huizj",
        "outputId": "50dc51ec-eda5-480d-c432-1389bb3dac27"
      },
      "outputs": [
        {
          "name": "stdout",
          "output_type": "stream",
          "text": [
            "=== EXPLORING 2023 RACE MEETINGS ===\n",
            "Found 23 meetings in 2023\n",
            "\n",
            "Sample meetings:\n",
            "               meeting_name  country_name                 date_start  \\\n",
            "0        Pre-Season Testing       Bahrain  2023-02-23T07:00:00+00:00   \n",
            "1        Bahrain Grand Prix       Bahrain  2023-03-03T11:30:00+00:00   \n",
            "2  Saudi Arabian Grand Prix  Saudi Arabia  2023-03-17T13:30:00+00:00   \n",
            "3     Australian Grand Prix     Australia  2023-03-31T01:30:00+00:00   \n",
            "4     Azerbaijan Grand Prix    Azerbaijan  2023-04-28T09:30:00+00:00   \n",
            "\n",
            "   meeting_key  \n",
            "0         1140  \n",
            "1         1141  \n",
            "2         1142  \n",
            "3         1143  \n",
            "4         1207  \n",
            "\n",
            "=== SELECTED RACE: Singapore Grand Prix ===\n",
            "Meeting Key: 1219\n",
            "Date: 2023-09-15T09:30:00+00:00\n",
            "\n",
            "=== SESSIONS FOR SINGAPORE GP 2023 ===\n",
            "Available sessions:\n",
            "  session_name session_type  session_key                 date_start\n",
            "0   Practice 1     Practice         9158  2023-09-15T09:30:00+00:00\n",
            "1   Practice 2     Practice         9159  2023-09-15T13:00:00+00:00\n",
            "2   Practice 3     Practice         9160  2023-09-16T09:30:00+00:00\n",
            "3   Qualifying   Qualifying         9161  2023-09-16T13:00:00+00:00\n",
            "4         Race         Race         9165  2023-09-17T12:00:00+00:00\n",
            "\n",
            "Qualifying Session Key: 9161\n",
            "Race Session Key: 9165\n",
            "\n",
            "=== DRIVERS IN SINGAPORE GP 2023 ===\n",
            "Found 20 drivers\n",
            "Drivers and teams:\n",
            "   driver_number        full_name name_acronym        team_name\n",
            "0              1   Max VERSTAPPEN          VER  Red Bull Racing\n",
            "1              2   Logan SARGEANT          SAR         Williams\n",
            "2              4     Lando NORRIS          NOR          McLaren\n",
            "3             10     Pierre GASLY          GAS           Alpine\n",
            "4             11     Sergio PEREZ          PER  Red Bull Racing\n",
            "5             14  Fernando ALONSO          ALO     Aston Martin\n",
            "6             16  Charles LECLERC          LEC          Ferrari\n",
            "7             18     Lance STROLL          STR     Aston Martin\n",
            "8             20  Kevin MAGNUSSEN          MAG     Haas F1 Team\n",
            "9             22     Yuki TSUNODA          TSU       AlphaTauri\n",
            "\n",
            "=== QUALIFYING POSITIONS ===\n",
            "Found 1145 position records\n",
            "Final Qualifying Order:\n",
            "    position        full_name     team_name\n",
            "16         1     Carlos SAINZ       Ferrari\n",
            "17         2   George RUSSELL      Mercedes\n",
            "6          3  Charles LECLERC       Ferrari\n",
            "2          4     Lando NORRIS       McLaren\n",
            "15         5   Lewis HAMILTON      Mercedes\n",
            "8          6  Kevin MAGNUSSEN  Haas F1 Team\n",
            "5          7  Fernando ALONSO  Aston Martin\n",
            "13         8     Esteban OCON        Alpine\n",
            "12         9  Nico HULKENBERG  Haas F1 Team\n",
            "14        10      Liam LAWSON    AlphaTauri\n",
            "\n",
            "=== RACE RESULTS ===\n",
            "Final Race Results:\n",
            "    position        full_name        team_name\n",
            "15         1     Carlos SAINZ          Ferrari\n",
            "2          2     Lando NORRIS          McLaren\n",
            "14         3   Lewis HAMILTON         Mercedes\n",
            "6          4  Charles LECLERC          Ferrari\n",
            "0          5   Max VERSTAPPEN  Red Bull Racing\n",
            "3          6     Pierre GASLY           Alpine\n",
            "18         7    Oscar PIASTRI          McLaren\n",
            "4          8     Sergio PEREZ  Red Bull Racing\n",
            "13         9      Liam LAWSON       AlphaTauri\n",
            "7         10  Kevin MAGNUSSEN     Haas F1 Team\n",
            "\n",
            "=== QUALIFYING vs RACE COMPARISON ===\n",
            "Top 10 Race Finishers (Qualifying vs Race):\n",
            "          full_name  qual_pos  race_pos  position_change\n",
            "0      Carlos SAINZ         1         1                0\n",
            "3      Lando NORRIS         4         2               -2\n",
            "4    Lewis HAMILTON         5         3               -2\n",
            "2   Charles LECLERC         3         4                1\n",
            "10   Max VERSTAPPEN        11         5               -6\n",
            "11     Pierre GASLY        12         6               -6\n",
            "16    Oscar PIASTRI        17         7              -10\n",
            "12     Sergio PEREZ        13         8               -5\n",
            "9       Liam LAWSON        10         9               -1\n",
            "5   Kevin MAGNUSSEN         6        10                4\n",
            "\n",
            "=== WEATHER CONDITIONS ===\n",
            "Found 176 weather records\n",
            "Average race conditions:\n",
            "  air_temperature: 29.8\n",
            "  track_temperature: 36.4\n",
            "  humidity: 72.0\n",
            "  rainfall: 0.0\n",
            "  wind_speed: 1.4\n",
            "  Max rainfall: 0\n",
            "  Race condition: DRY\n",
            "\n",
            "=== DATA STRUCTURE SUMMARY ===\n",
            "✅ Successfully extracted:\n",
            "  - Meeting info: 23 races in 2023\n",
            "  - Session data: 5 sessions per race weekend\n",
            "  - Driver data: 20 drivers with team info\n",
            "  - Qualifying positions: 20 drivers\n",
            "  - Race results: 19 drivers\n",
            "  - Weather data: 176 records\n",
            "\n",
            "✅ Key features identified for ML model:\n",
            "  - Qualifying position (strongest predictor)\n",
            "  - Driver & team information\n",
            "  - Weather conditions\n",
            "  - Circuit information\n",
            "\n",
            "🎯 Next step: Build systematic data collection for 2022-2024!\n"
          ]
        }
      ],
      "source": [
        "import requests\n",
        "import pandas as pd\n",
        "import json\n",
        "from datetime import datetime\n",
        "\n",
        "# Base URL for OpenF1 API\n",
        "BASE_URL = \"https://api.openf1.org/v1\"\n",
        "\n",
        "def get_data(endpoint, params=None):\n",
        "    \"\"\"Helper function to fetch data from OpenF1 API\"\"\"\n",
        "    url = f\"{BASE_URL}/{endpoint}\"\n",
        "    response = requests.get(url, params=params)\n",
        "    if response.status_code == 200:\n",
        "        return response.json()\n",
        "    else:\n",
        "        print(f\"Error {response.status_code}: {response.text}\")\n",
        "        return None\n",
        "\n",
        "# 1. First, let's see what meetings (race weekends) are available for 2023\n",
        "print(\"=== EXPLORING 2023 RACE MEETINGS ===\")\n",
        "meetings_2023 = get_data(\"meetings\", {\"year\": 2023})\n",
        "\n",
        "if meetings_2023:\n",
        "    meetings_df = pd.DataFrame(meetings_2023)\n",
        "    print(f\"Found {len(meetings_df)} meetings in 2023\")\n",
        "    print(\"\\nSample meetings:\")\n",
        "    print(meetings_df[['meeting_name', 'country_name', 'date_start', 'meeting_key']].head())\n",
        "\n",
        "    # Let's pick a specific race - Singapore GP 2023 (mentioned in the docs)\n",
        "    singapore_meeting = meetings_df[meetings_df['country_name'] == 'Singapore'].iloc[0]\n",
        "    print(f\"\\n=== SELECTED RACE: {singapore_meeting['meeting_name']} ===\")\n",
        "    print(f\"Meeting Key: {singapore_meeting['meeting_key']}\")\n",
        "    print(f\"Date: {singapore_meeting['date_start']}\")\n",
        "\n",
        "    meeting_key = singapore_meeting['meeting_key']\n",
        "\n",
        "    # 2. Get all sessions for this meeting (Practice, Qualifying, Race)\n",
        "    print(\"\\n=== SESSIONS FOR SINGAPORE GP 2023 ===\")\n",
        "    sessions = get_data(\"sessions\", {\"meeting_key\": meeting_key})\n",
        "\n",
        "    if sessions:\n",
        "        sessions_df = pd.DataFrame(sessions)\n",
        "        print(\"Available sessions:\")\n",
        "        print(sessions_df[['session_name', 'session_type', 'session_key', 'date_start']])\n",
        "\n",
        "        # Find qualifying and race sessions\n",
        "        qualifying_session = sessions_df[sessions_df['session_name'] == 'Qualifying'].iloc[0]\n",
        "        race_session = sessions_df[sessions_df['session_name'] == 'Race'].iloc[0]\n",
        "\n",
        "        print(f\"\\nQualifying Session Key: {qualifying_session['session_key']}\")\n",
        "        print(f\"Race Session Key: {race_session['session_key']}\")\n",
        "\n",
        "        # 3. Get drivers for this meeting\n",
        "        print(\"\\n=== DRIVERS IN SINGAPORE GP 2023 ===\")\n",
        "        drivers = get_data(\"drivers\", {\"session_key\": qualifying_session['session_key']})\n",
        "\n",
        "        if drivers:\n",
        "            drivers_df = pd.DataFrame(drivers)\n",
        "            print(f\"Found {len(drivers_df)} drivers\")\n",
        "            print(\"Drivers and teams:\")\n",
        "            print(drivers_df[['driver_number', 'full_name', 'name_acronym', 'team_name']].head(10))\n",
        "\n",
        "            # 4. Get qualifying positions (our main predictor)\n",
        "            print(\"\\n=== QUALIFYING POSITIONS ===\")\n",
        "            qual_positions = get_data(\"position\", {\"session_key\": qualifying_session['session_key']})\n",
        "\n",
        "            if qual_positions:\n",
        "                # Get final qualifying positions (latest position for each driver)\n",
        "                qual_df = pd.DataFrame(qual_positions)\n",
        "                print(f\"Found {len(qual_df)} position records\")\n",
        "\n",
        "                # Get the final qualifying order\n",
        "                final_qual = qual_df.groupby('driver_number')['position'].last().reset_index()\n",
        "                final_qual = final_qual.merge(drivers_df[['driver_number', 'full_name', 'team_name']],\n",
        "                                             on='driver_number', how='left')\n",
        "                final_qual = final_qual.sort_values('position')\n",
        "\n",
        "                print(\"Final Qualifying Order:\")\n",
        "                print(final_qual[['position', 'full_name', 'team_name']].head(10))\n",
        "\n",
        "                # 5. Get race results (our target variable)\n",
        "                print(\"\\n=== RACE RESULTS ===\")\n",
        "                race_positions = get_data(\"position\", {\"session_key\": race_session['session_key']})\n",
        "\n",
        "                if race_positions:\n",
        "                    race_df = pd.DataFrame(race_positions)\n",
        "\n",
        "                    # Get final race positions\n",
        "                    final_race = race_df.groupby('driver_number')['position'].last().reset_index()\n",
        "                    final_race = final_race.merge(drivers_df[['driver_number', 'full_name', 'team_name']],\n",
        "                                                 on='driver_number', how='left')\n",
        "                    final_race = final_race.sort_values('position')\n",
        "\n",
        "                    print(\"Final Race Results:\")\n",
        "                    print(final_race[['position', 'full_name', 'team_name']].head(10))\n",
        "\n",
        "                    # 6. Combine qualifying and race data to see the correlation\n",
        "                    print(\"\\n=== QUALIFYING vs RACE COMPARISON ===\")\n",
        "                    comparison = final_qual[['driver_number', 'position']].rename(columns={'position': 'qual_pos'}).merge(\n",
        "                        final_race[['driver_number', 'position', 'full_name']].rename(columns={'position': 'race_pos'}),\n",
        "                        on='driver_number'\n",
        "                    )\n",
        "                    comparison['position_change'] = comparison['race_pos'] - comparison['qual_pos']\n",
        "                    comparison = comparison.sort_values('race_pos')\n",
        "\n",
        "                    print(\"Top 10 Race Finishers (Qualifying vs Race):\")\n",
        "                    print(comparison[['full_name', 'qual_pos', 'race_pos', 'position_change']].head(10))\n",
        "\n",
        "                    # 7. Let's also check weather data for this race\n",
        "                    print(\"\\n=== WEATHER CONDITIONS ===\")\n",
        "                    weather = get_data(\"weather\", {\"session_key\": race_session['session_key']})\n",
        "\n",
        "                    if weather and len(weather) > 0:\n",
        "                        weather_df = pd.DataFrame(weather)\n",
        "                        print(f\"Found {len(weather_df)} weather records\")\n",
        "\n",
        "                        # Get average conditions\n",
        "                        avg_weather = weather_df.agg({\n",
        "                            'air_temperature': 'mean',\n",
        "                            'track_temperature': 'mean',\n",
        "                            'humidity': 'mean',\n",
        "                            'rainfall': 'mean',\n",
        "                            'wind_speed': 'mean'\n",
        "                        })\n",
        "\n",
        "                        print(\"Average race conditions:\")\n",
        "                        for metric, value in avg_weather.items():\n",
        "                            print(f\"  {metric}: {value:.1f}\")\n",
        "\n",
        "                        # Check if it rained\n",
        "                        max_rainfall = weather_df['rainfall'].max()\n",
        "                        print(f\"  Max rainfall: {max_rainfall}\")\n",
        "                        print(f\"  Race condition: {'WET' if max_rainfall > 0 else 'DRY'}\")\n",
        "\n",
        "                    print(\"\\n=== DATA STRUCTURE SUMMARY ===\")\n",
        "                    print(\"✅ Successfully extracted:\")\n",
        "                    print(f\"  - Meeting info: {len(meetings_df)} races in 2023\")\n",
        "                    print(f\"  - Session data: {len(sessions_df)} sessions per race weekend\")\n",
        "                    print(f\"  - Driver data: {len(drivers_df)} drivers with team info\")\n",
        "                    print(f\"  - Qualifying positions: {len(final_qual)} drivers\")\n",
        "                    print(f\"  - Race results: {len(final_race)} drivers\")\n",
        "                    print(f\"  - Weather data: {len(weather_df) if weather else 0} records\")\n",
        "\n",
        "                    print(\"\\n✅ Key features identified for ML model:\")\n",
        "                    print(\"  - Qualifying position (strongest predictor)\")\n",
        "                    print(\"  - Driver & team information\")\n",
        "                    print(\"  - Weather conditions\")\n",
        "                    print(\"  - Circuit information\")\n",
        "                    print(\"\\n🎯 Next step: Build systematic data collection for 2022-2024!\")\n",
        "\n",
        "else:\n",
        "    print(\"Failed to fetch meetings data\")"
      ]
    },
    {
      "cell_type": "code",
      "execution_count": 2,
      "metadata": {
        "id": "vuEB83a4urd0"
      },
      "outputs": [],
      "source": [
        "import requests\n",
        "import pandas as pd\n",
        "import numpy as np\n",
        "from datetime import datetime\n",
        "import time\n",
        "from tqdm import tqdm\n",
        "import warnings\n",
        "warnings.filterwarnings('ignore')"
      ]
    },
    {
      "cell_type": "code",
      "execution_count": 3,
      "metadata": {
        "id": "nHrnwOBHw1gc"
      },
      "outputs": [],
      "source": [
        "# Base URL for OpenF1 API\n",
        "BASE_URL = \"https://api.openf1.org/v1\"\n",
        "\n",
        "def get_data(endpoint, params=None, max_retries=3):\n",
        "    \"\"\"Helper function to fetch data from OpenF1 API with retry logic\"\"\"\n",
        "    url = f\"{BASE_URL}/{endpoint}\"\n",
        "\n",
        "    for attempt in range(max_retries):\n",
        "        try:\n",
        "            response = requests.get(url, params=params, timeout=30)\n",
        "            if response.status_code == 200:\n",
        "                return response.json()\n",
        "            else:\n",
        "                print(f\"Error {response.status_code} on attempt {attempt + 1}: {response.text}\")\n",
        "                if attempt < max_retries - 1:\n",
        "                    time.sleep(2)  # Wait before retry\n",
        "        except Exception as e:\n",
        "            print(f\"Request failed on attempt {attempt + 1}: {e}\")\n",
        "            if attempt < max_retries - 1:\n",
        "                time.sleep(2)\n",
        "\n",
        "    return None"
      ]
    },
    {
      "cell_type": "code",
      "execution_count": 4,
      "metadata": {
        "id": "ot7z0NS2xyUY"
      },
      "outputs": [],
      "source": [
        "def get_final_positions(session_key, session_type=\"race\"):\n",
        "    \"\"\"Get final positions for a session, handling DNFs as position 21+\"\"\"\n",
        "    positions = get_data(\"position\", {\"session_key\": session_key})\n",
        "\n",
        "    if not positions:\n",
        "        return pd.DataFrame()\n",
        "\n",
        "    positions_df = pd.DataFrame(positions)\n",
        "\n",
        "    # Get the latest position for each driver\n",
        "    final_positions = positions_df.groupby('driver_number')['position'].last().reset_index()\n",
        "\n",
        "    # Get all drivers for this session to catch any missing from position data (DNFs)\n",
        "    drivers = get_data(\"drivers\", {\"session_key\": session_key})\n",
        "    if drivers:\n",
        "        drivers_df = pd.DataFrame(drivers)\n",
        "        all_drivers = set(drivers_df['driver_number'].unique())\n",
        "        positioned_drivers = set(final_positions['driver_number'].unique())\n",
        "\n",
        "        # Find drivers missing from position data (DNFs)\n",
        "        dnf_drivers = all_drivers - positioned_drivers\n",
        "\n",
        "        if dnf_drivers:\n",
        "            print(f\"  Found {len(dnf_drivers)} DNF drivers in {session_type}: {list(dnf_drivers)}\")\n",
        "\n",
        "            # Assign DNF positions starting from 21\n",
        "            max_position = final_positions['position'].max() if len(final_positions) > 0 else 0\n",
        "            dnf_position_start = max(21, max_position + 1)\n",
        "\n",
        "            dnf_data = []\n",
        "            for i, driver_num in enumerate(sorted(dnf_drivers)):\n",
        "                dnf_data.append({\n",
        "                    'driver_number': driver_num,\n",
        "                    'position': dnf_position_start + i\n",
        "                })\n",
        "\n",
        "            if dnf_data:\n",
        "                dnf_df = pd.DataFrame(dnf_data)\n",
        "                final_positions = pd.concat([final_positions, dnf_df], ignore_index=True)\n",
        "\n",
        "    return final_positions"
      ]
    },
    {
      "cell_type": "code",
      "execution_count": 5,
      "metadata": {
        "id": "j_O5X9mZx15Y"
      },
      "outputs": [],
      "source": [
        "def collect_race_data(year):\n",
        "    \"\"\"Collect all race data for a given year\"\"\"\n",
        "    print(f\"\\n{'='*50}\")\n",
        "    print(f\"COLLECTING DATA FOR {year}\")\n",
        "    print(f\"{'='*50}\")\n",
        "\n",
        "    # Get all meetings for the year\n",
        "    meetings = get_data(\"meetings\", {\"year\": year})\n",
        "    if not meetings:\n",
        "        print(f\"No meetings found for {year}\")\n",
        "        return pd.DataFrame()\n",
        "\n",
        "    meetings_df = pd.DataFrame(meetings)\n",
        "\n",
        "    # Filter out testing sessions - only keep Grand Prix races\n",
        "    gp_meetings = meetings_df[meetings_df['meeting_name'].str.contains('Grand Prix', case=False, na=False)]\n",
        "    print(f\"Found {len(gp_meetings)} Grand Prix meetings in {year}\")\n",
        "\n",
        "    race_data = []\n",
        "\n",
        "    for idx, meeting in tqdm(gp_meetings.iterrows(), total=len(gp_meetings), desc=f\"Processing {year} races\"):\n",
        "        try:\n",
        "            print(f\"\\n--- Processing: {meeting['meeting_name']} ---\")\n",
        "\n",
        "            # Get sessions for this meeting\n",
        "            sessions = get_data(\"sessions\", {\"meeting_key\": meeting['meeting_key']})\n",
        "            if not sessions:\n",
        "                print(f\"  No sessions found for {meeting['meeting_name']}\")\n",
        "                continue\n",
        "\n",
        "            sessions_df = pd.DataFrame(sessions)\n",
        "\n",
        "            # Find qualifying and race sessions\n",
        "            qualifying_sessions = sessions_df[sessions_df['session_name'] == 'Qualifying']\n",
        "            race_sessions = sessions_df[sessions_df['session_name'] == 'Race']\n",
        "\n",
        "            if len(qualifying_sessions) == 0:\n",
        "                print(f\"  No qualifying session found for {meeting['meeting_name']}\")\n",
        "                continue\n",
        "\n",
        "            if len(race_sessions) == 0:\n",
        "                print(f\"  No race session found for {meeting['meeting_name']}\")\n",
        "                continue\n",
        "\n",
        "            qualifying_session = qualifying_sessions.iloc[0]\n",
        "            race_session = race_sessions.iloc[0]\n",
        "\n",
        "            print(f\"  Qualifying Key: {qualifying_session['session_key']}\")\n",
        "            print(f\"  Race Key: {race_session['session_key']}\")\n",
        "\n",
        "            # Get drivers for this race\n",
        "            drivers = get_data(\"drivers\", {\"session_key\": qualifying_session['session_key']})\n",
        "            if not drivers:\n",
        "                print(f\"  No driver data found for {meeting['meeting_name']}\")\n",
        "                continue\n",
        "\n",
        "            drivers_df = pd.DataFrame(drivers)\n",
        "\n",
        "            # Get qualifying positions\n",
        "            print(\"  Getting qualifying positions...\")\n",
        "            qual_positions = get_final_positions(qualifying_session['session_key'], \"qualifying\")\n",
        "\n",
        "            if len(qual_positions) == 0:\n",
        "                print(f\"  No qualifying positions found for {meeting['meeting_name']}\")\n",
        "                continue\n",
        "\n",
        "            # Get race results\n",
        "            print(\"  Getting race results...\")\n",
        "            race_positions = get_final_positions(race_session['session_key'], \"race\")\n",
        "\n",
        "            if len(race_positions) == 0:\n",
        "                print(f\"  No race results found for {meeting['meeting_name']}\")\n",
        "                continue\n",
        "\n",
        "            # Get weather data\n",
        "            print(\"  Getting weather data...\")\n",
        "            weather = get_data(\"weather\", {\"session_key\": race_session['session_key']})\n",
        "            weather_features = {}\n",
        "\n",
        "            if weather and len(weather) > 0:\n",
        "                weather_df = pd.DataFrame(weather)\n",
        "                weather_features = {\n",
        "                    'avg_air_temp': weather_df['air_temperature'].mean(),\n",
        "                    'avg_track_temp': weather_df['track_temperature'].mean(),\n",
        "                    'avg_humidity': weather_df['humidity'].mean(),\n",
        "                    'total_rainfall': weather_df['rainfall'].sum(),\n",
        "                    'max_rainfall': weather_df['rainfall'].max(),\n",
        "                    'avg_wind_speed': weather_df['wind_speed'].mean(),\n",
        "                    'is_wet_race': weather_df['rainfall'].max() > 0\n",
        "                }\n",
        "            else:\n",
        "                print(\"  No weather data available\")\n",
        "                weather_features = {\n",
        "                    'avg_air_temp': None, 'avg_track_temp': None, 'avg_humidity': None,\n",
        "                    'total_rainfall': None, 'max_rainfall': None, 'avg_wind_speed': None,\n",
        "                    'is_wet_race': False\n",
        "                }\n",
        "\n",
        "            # Combine all data\n",
        "            combined_data = qual_positions.merge(\n",
        "                race_positions.rename(columns={'position': 'race_position'}),\n",
        "                on='driver_number',\n",
        "                how='outer'\n",
        "            ).merge(\n",
        "                drivers_df[['driver_number', 'full_name', 'name_acronym', 'team_name', 'country_code']],\n",
        "                on='driver_number',\n",
        "                how='left'\n",
        "            )\n",
        "\n",
        "            # Rename qualifying position column\n",
        "            combined_data = combined_data.rename(columns={'position': 'qualifying_position'})\n",
        "\n",
        "            # Add race metadata\n",
        "            for col, value in meeting.items():\n",
        "                combined_data[f'meeting_{col}'] = value\n",
        "\n",
        "            # Add session keys\n",
        "            combined_data['qualifying_session_key'] = qualifying_session['session_key']\n",
        "            combined_data['race_session_key'] = race_session['session_key']\n",
        "\n",
        "            # Add weather features\n",
        "            for weather_col, weather_val in weather_features.items():\n",
        "                combined_data[weather_col] = weather_val\n",
        "\n",
        "            # Handle missing race positions (treat as DNF)\n",
        "            combined_data['race_position'] = combined_data['race_position'].fillna(22)  # DNF position\n",
        "\n",
        "            # Handle missing qualifying positions (DNS - Did Not Start)\n",
        "            combined_data['qualifying_position'] = combined_data['qualifying_position'].fillna(21)  # DNS position\n",
        "\n",
        "            race_data.append(combined_data)\n",
        "\n",
        "            print(f\"  ✅ Collected data for {len(combined_data)} drivers\")\n",
        "\n",
        "            # Larger delay to respect API rate limits (10 requests per 10 seconds)\n",
        "            time.sleep(5)\n",
        "\n",
        "        except Exception as e:\n",
        "            print(f\"  ❌ Error processing {meeting['meeting_name']}: {e}\")\n",
        "            continue\n",
        "\n",
        "    if race_data:\n",
        "        all_race_data = pd.concat(race_data, ignore_index=True)\n",
        "        print(f\"\\n✅ Successfully collected data for {len(all_race_data)} driver-race combinations in {year}\")\n",
        "        return all_race_data\n",
        "    else:\n",
        "        print(f\"\\n❌ No data collected for {year}\")\n",
        "        return pd.DataFrame()\n"
      ]
    },
    {
      "cell_type": "code",
      "execution_count": 6,
      "metadata": {
        "id": "U761Paqvx5Jr"
      },
      "outputs": [],
      "source": [
        "def add_derived_features(df):\n",
        "    \"\"\"Add derived features for ML model\"\"\"\n",
        "    print(\"\\n--- Adding derived features ---\")\n",
        "\n",
        "    # Ensure data is sorted by date\n",
        "    date_col = 'meeting_date_start' if 'meeting_date_start' in df.columns else 'date_start'\n",
        "    year_col = 'meeting_year' if 'meeting_year' in df.columns else 'year'\n",
        "\n",
        "    df = df.sort_values([year_col, date_col]).reset_index(drop=True)\n",
        "\n",
        "    derived_features = []\n",
        "\n",
        "    for idx, row in tqdm(df.iterrows(), total=len(df), desc=\"Adding features\"):\n",
        "        features = row.to_dict()\n",
        "\n",
        "        # Get historical data for this driver up to this race (excluding current race)\n",
        "        # Use the correct column names with meeting_ prefix\n",
        "        date_col = 'meeting_date_start' if 'meeting_date_start' in df.columns else 'date_start'\n",
        "        circuit_col = 'meeting_circuit_key' if 'meeting_circuit_key' in df.columns else 'circuit_key'\n",
        "        year_col = 'meeting_year' if 'meeting_year' in df.columns else 'year'\n",
        "\n",
        "        driver_history = df[\n",
        "            (df['driver_number'] == row['driver_number']) &\n",
        "            (df[date_col] < row[date_col])\n",
        "        ].copy()\n",
        "\n",
        "        # Driver career features\n",
        "        features['driver_races_completed'] = len(driver_history)\n",
        "        features['driver_career_wins'] = len(driver_history[driver_history['race_position'] == 1])\n",
        "        features['driver_career_podiums'] = len(driver_history[driver_history['race_position'] <= 3])\n",
        "        features['driver_career_top5'] = len(driver_history[driver_history['race_position'] <= 5])\n",
        "        features['driver_career_points_rate'] = len(driver_history[driver_history['race_position'] <= 10]) / max(1, len(driver_history))\n",
        "\n",
        "        # Recent form (last 5 races)\n",
        "        recent_history = driver_history.tail(5)\n",
        "        if len(recent_history) > 0:\n",
        "            features['driver_recent_avg_position'] = recent_history['race_position'].mean()\n",
        "            features['driver_recent_avg_qual_position'] = recent_history['qualifying_position'].mean()\n",
        "            features['driver_recent_wins'] = len(recent_history[recent_history['race_position'] == 1])\n",
        "            features['driver_recent_podiums'] = len(recent_history[recent_history['race_position'] <= 3])\n",
        "        else:\n",
        "            features['driver_recent_avg_position'] = None\n",
        "            features['driver_recent_avg_qual_position'] = None\n",
        "            features['driver_recent_wins'] = 0\n",
        "            features['driver_recent_podiums'] = 0\n",
        "\n",
        "        # Circuit-specific performance\n",
        "        circuit_history = driver_history[driver_history[circuit_col] == row[circuit_col]]\n",
        "        features['driver_circuit_races'] = len(circuit_history)\n",
        "        if len(circuit_history) > 0:\n",
        "            features['driver_circuit_avg_position'] = circuit_history['race_position'].mean()\n",
        "            features['driver_circuit_avg_qual'] = circuit_history['qualifying_position'].mean()\n",
        "            features['driver_circuit_wins'] = len(circuit_history[circuit_history['race_position'] == 1])\n",
        "            features['driver_circuit_podiums'] = len(circuit_history[circuit_history['race_position'] <= 3])\n",
        "        else:\n",
        "            features['driver_circuit_avg_position'] = None\n",
        "            features['driver_circuit_avg_qual'] = None\n",
        "            features['driver_circuit_wins'] = 0\n",
        "            features['driver_circuit_podiums'] = 0\n",
        "\n",
        "        # Team performance at this point in time\n",
        "        team_history = df[\n",
        "            (df['team_name'] == row['team_name']) &\n",
        "            (df[date_col] < row[date_col]) &\n",
        "            (df[year_col] == row[year_col])  # Same season\n",
        "        ].copy()\n",
        "\n",
        "        if len(team_history) > 0:\n",
        "            features['team_season_avg_position'] = team_history['race_position'].mean()\n",
        "            features['team_season_wins'] = len(team_history[team_history['race_position'] == 1])\n",
        "            features['team_season_podiums'] = len(team_history[team_history['race_position'] <= 3])\n",
        "            features['team_season_points_rate'] = len(team_history[team_history['race_position'] <= 10]) / max(1, len(team_history))\n",
        "        else:\n",
        "            features['team_season_avg_position'] = None\n",
        "            features['team_season_wins'] = 0\n",
        "            features['team_season_podiums'] = 0\n",
        "            features['team_season_points_rate'] = None\n",
        "\n",
        "        derived_features.append(features)\n",
        "\n",
        "    result_df = pd.DataFrame(derived_features)\n",
        "    print(f\"✅ Added derived features. Dataset now has {len(result_df.columns)} columns\")\n",
        "\n",
        "    return result_df"
      ]
    },
    {
      "cell_type": "code",
      "execution_count": 7,
      "metadata": {
        "colab": {
          "base_uri": "https://localhost:8080/"
        },
        "id": "0n8AT_oOx8eF",
        "outputId": "8b5c9cd4-44e8-4289-e87a-b0e7259c8fa4"
      },
      "outputs": [
        {
          "name": "stdout",
          "output_type": "stream",
          "text": [
            "🏎️  F1 PREDICTIVE ANALYTICS DATA COLLECTION PIPELINE\n",
            "============================================================\n",
            "Starting with 2023 data for validation...\n",
            "\n",
            "==================================================\n",
            "COLLECTING DATA FOR 2023\n",
            "==================================================\n",
            "Found 22 Grand Prix meetings in 2023\n"
          ]
        },
        {
          "name": "stderr",
          "output_type": "stream",
          "text": [
            "Processing 2023 races:   0%|          | 0/22 [00:00<?, ?it/s]"
          ]
        },
        {
          "name": "stdout",
          "output_type": "stream",
          "text": [
            "\n",
            "--- Processing: Bahrain Grand Prix ---\n",
            "  Qualifying Key: 7768\n",
            "  Race Key: 7953\n",
            "  Getting qualifying positions...\n",
            "  Getting race results...\n",
            "  Getting weather data...\n",
            "  ✅ Collected data for 20 drivers\n"
          ]
        },
        {
          "name": "stderr",
          "output_type": "stream",
          "text": [
            "Processing 2023 races:   5%|▍         | 1/22 [00:06<02:08,  6.11s/it]"
          ]
        },
        {
          "name": "stdout",
          "output_type": "stream",
          "text": [
            "\n",
            "--- Processing: Saudi Arabian Grand Prix ---\n",
            "  Qualifying Key: 7775\n",
            "  Race Key: 7779\n",
            "  Getting qualifying positions...\n",
            "  Getting race results...\n",
            "  Getting weather data...\n",
            "  ✅ Collected data for 20 drivers\n"
          ]
        },
        {
          "name": "stderr",
          "output_type": "stream",
          "text": [
            "Processing 2023 races:   9%|▉         | 2/22 [00:13<02:14,  6.75s/it]"
          ]
        },
        {
          "name": "stdout",
          "output_type": "stream",
          "text": [
            "\n",
            "--- Processing: Australian Grand Prix ---\n",
            "  Qualifying Key: 7783\n",
            "  Race Key: 7787\n",
            "  Getting qualifying positions...\n",
            "  Getting race results...\n",
            "  Getting weather data...\n",
            "  ✅ Collected data for 20 drivers\n"
          ]
        },
        {
          "name": "stderr",
          "output_type": "stream",
          "text": [
            "Processing 2023 races:  14%|█▎        | 3/22 [00:20<02:08,  6.75s/it]"
          ]
        },
        {
          "name": "stdout",
          "output_type": "stream",
          "text": [
            "\n",
            "--- Processing: Azerbaijan Grand Prix ---\n",
            "  Qualifying Key: 9064\n",
            "  Race Key: 9070\n",
            "  Getting qualifying positions...\n",
            "  Getting race results...\n",
            "  Getting weather data...\n",
            "  ✅ Collected data for 20 drivers\n"
          ]
        },
        {
          "name": "stderr",
          "output_type": "stream",
          "text": [
            "Processing 2023 races:  18%|█▊        | 4/22 [00:26<01:56,  6.49s/it]"
          ]
        },
        {
          "name": "stdout",
          "output_type": "stream",
          "text": [
            "\n",
            "--- Processing: Miami Grand Prix ---\n",
            "  Qualifying Key: 9074\n",
            "  Race Key: 9078\n",
            "  Getting qualifying positions...\n",
            "  Getting race results...\n",
            "  Getting weather data...\n",
            "  ✅ Collected data for 20 drivers\n"
          ]
        },
        {
          "name": "stderr",
          "output_type": "stream",
          "text": [
            "Processing 2023 races:  23%|██▎       | 5/22 [00:35<02:06,  7.45s/it]"
          ]
        },
        {
          "name": "stdout",
          "output_type": "stream",
          "text": [
            "\n",
            "--- Processing: Monaco Grand Prix ---\n",
            "  Qualifying Key: 9090\n",
            "  Race Key: 9094\n",
            "  Getting qualifying positions...\n",
            "  Getting race results...\n",
            "  Getting weather data...\n",
            "  ✅ Collected data for 20 drivers\n"
          ]
        },
        {
          "name": "stderr",
          "output_type": "stream",
          "text": [
            "Processing 2023 races:  27%|██▋       | 6/22 [00:42<01:55,  7.22s/it]"
          ]
        },
        {
          "name": "stdout",
          "output_type": "stream",
          "text": [
            "\n",
            "--- Processing: Spanish Grand Prix ---\n",
            "  Qualifying Key: 9098\n",
            "  Race Key: 9102\n",
            "  Getting qualifying positions...\n",
            "  Getting race results...\n",
            "  Getting weather data...\n",
            "  ✅ Collected data for 20 drivers\n"
          ]
        },
        {
          "name": "stderr",
          "output_type": "stream",
          "text": [
            "Processing 2023 races:  32%|███▏      | 7/22 [00:48<01:46,  7.10s/it]"
          ]
        },
        {
          "name": "stdout",
          "output_type": "stream",
          "text": [
            "\n",
            "--- Processing: Canadian Grand Prix ---\n",
            "  Qualifying Key: 9106\n",
            "  Race Key: 9110\n",
            "  Getting qualifying positions...\n",
            "  Getting race results...\n",
            "  Getting weather data...\n",
            "  ✅ Collected data for 20 drivers\n"
          ]
        },
        {
          "name": "stderr",
          "output_type": "stream",
          "text": [
            "Processing 2023 races:  36%|███▋      | 8/22 [00:55<01:36,  6.86s/it]"
          ]
        },
        {
          "name": "stdout",
          "output_type": "stream",
          "text": [
            "\n",
            "--- Processing: Austrian Grand Prix ---\n",
            "  Qualifying Key: 9112\n",
            "  Race Key: 9118\n",
            "  Getting qualifying positions...\n",
            "  Getting race results...\n",
            "  Getting weather data...\n",
            "  ✅ Collected data for 20 drivers\n"
          ]
        },
        {
          "name": "stderr",
          "output_type": "stream",
          "text": [
            "Processing 2023 races:  41%|████      | 9/22 [01:01<01:27,  6.74s/it]"
          ]
        },
        {
          "name": "stdout",
          "output_type": "stream",
          "text": [
            "\n",
            "--- Processing: British Grand Prix ---\n",
            "  Qualifying Key: 9122\n",
            "  Race Key: 9126\n",
            "  Getting qualifying positions...\n",
            "  Getting race results...\n",
            "  Getting weather data...\n",
            "  ✅ Collected data for 20 drivers\n"
          ]
        },
        {
          "name": "stderr",
          "output_type": "stream",
          "text": [
            "Processing 2023 races:  45%|████▌     | 10/22 [01:09<01:23,  6.96s/it]"
          ]
        },
        {
          "name": "stdout",
          "output_type": "stream",
          "text": [
            "\n",
            "--- Processing: Hungarian Grand Prix ---\n",
            "  Qualifying Key: 9129\n",
            "  Race Key: 9133\n",
            "  Getting qualifying positions...\n",
            "  Getting race results...\n",
            "  Getting weather data...\n",
            "  ✅ Collected data for 20 drivers\n"
          ]
        },
        {
          "name": "stderr",
          "output_type": "stream",
          "text": [
            "Processing 2023 races:  50%|█████     | 11/22 [01:16<01:16,  6.92s/it]"
          ]
        },
        {
          "name": "stdout",
          "output_type": "stream",
          "text": [
            "\n",
            "--- Processing: Belgian Grand Prix ---\n",
            "  Qualifying Key: 9135\n",
            "  Race Key: 9141\n",
            "  Getting qualifying positions...\n",
            "  Getting race results...\n",
            "  Getting weather data...\n",
            "  ✅ Collected data for 20 drivers\n"
          ]
        },
        {
          "name": "stderr",
          "output_type": "stream",
          "text": [
            "Processing 2023 races:  55%|█████▍    | 12/22 [01:22<01:07,  6.77s/it]"
          ]
        },
        {
          "name": "stdout",
          "output_type": "stream",
          "text": [
            "\n",
            "--- Processing: Dutch Grand Prix ---\n",
            "  Qualifying Key: 9145\n",
            "  Race Key: 9149\n",
            "  Getting qualifying positions...\n",
            "  Getting race results...\n",
            "  Getting weather data...\n",
            "  ✅ Collected data for 20 drivers\n"
          ]
        },
        {
          "name": "stderr",
          "output_type": "stream",
          "text": [
            "Processing 2023 races:  59%|█████▉    | 13/22 [01:29<01:02,  6.90s/it]"
          ]
        },
        {
          "name": "stdout",
          "output_type": "stream",
          "text": [
            "\n",
            "--- Processing: Italian Grand Prix ---\n",
            "  Qualifying Key: 9153\n",
            "  Race Key: 9157\n",
            "  Getting qualifying positions...\n",
            "  Getting race results...\n",
            "  Getting weather data...\n",
            "  ✅ Collected data for 20 drivers\n"
          ]
        },
        {
          "name": "stderr",
          "output_type": "stream",
          "text": [
            "Processing 2023 races:  64%|██████▎   | 14/22 [01:36<00:55,  6.93s/it]"
          ]
        },
        {
          "name": "stdout",
          "output_type": "stream",
          "text": [
            "\n",
            "--- Processing: Singapore Grand Prix ---\n",
            "  Qualifying Key: 9161\n",
            "  Race Key: 9165\n",
            "  Getting qualifying positions...\n",
            "  Getting race results...\n",
            "  Getting weather data...\n",
            "  ✅ Collected data for 20 drivers\n"
          ]
        },
        {
          "name": "stderr",
          "output_type": "stream",
          "text": [
            "Processing 2023 races:  68%|██████▊   | 15/22 [01:43<00:48,  6.88s/it]"
          ]
        },
        {
          "name": "stdout",
          "output_type": "stream",
          "text": [
            "\n",
            "--- Processing: Japanese Grand Prix ---\n",
            "  Qualifying Key: 9169\n",
            "  Race Key: 9173\n",
            "  Getting qualifying positions...\n",
            "  Getting race results...\n",
            "  Getting weather data...\n",
            "  ✅ Collected data for 20 drivers\n"
          ]
        },
        {
          "name": "stderr",
          "output_type": "stream",
          "text": [
            "Processing 2023 races:  73%|███████▎  | 16/22 [01:50<00:41,  6.84s/it]"
          ]
        },
        {
          "name": "stdout",
          "output_type": "stream",
          "text": [
            "\n",
            "--- Processing: Qatar Grand Prix ---\n",
            "  Qualifying Key: 9215\n",
            "  Race Key: 9221\n",
            "  Getting qualifying positions...\n",
            "  Getting race results...\n",
            "  Getting weather data...\n",
            "  ✅ Collected data for 20 drivers\n"
          ]
        },
        {
          "name": "stderr",
          "output_type": "stream",
          "text": [
            "Processing 2023 races:  77%|███████▋  | 17/22 [01:56<00:34,  6.81s/it]"
          ]
        },
        {
          "name": "stdout",
          "output_type": "stream",
          "text": [
            "\n",
            "--- Processing: United States Grand Prix ---\n",
            "  Qualifying Key: 9207\n",
            "  Race Key: 9213\n",
            "  Getting qualifying positions...\n",
            "  Getting race results...\n",
            "  Getting weather data...\n",
            "  ✅ Collected data for 20 drivers\n"
          ]
        },
        {
          "name": "stderr",
          "output_type": "stream",
          "text": [
            "Processing 2023 races:  82%|████████▏ | 18/22 [02:03<00:26,  6.68s/it]"
          ]
        },
        {
          "name": "stdout",
          "output_type": "stream",
          "text": [
            "\n",
            "--- Processing: Mexico City Grand Prix ---\n",
            "  Qualifying Key: 9177\n",
            "  Race Key: 9181\n",
            "  Getting qualifying positions...\n",
            "  Getting race results...\n",
            "  Getting weather data...\n",
            "  ✅ Collected data for 20 drivers\n"
          ]
        },
        {
          "name": "stderr",
          "output_type": "stream",
          "text": [
            "Processing 2023 races:  86%|████████▋ | 19/22 [02:09<00:19,  6.56s/it]"
          ]
        },
        {
          "name": "stdout",
          "output_type": "stream",
          "text": [
            "\n",
            "--- Processing: São Paulo Grand Prix ---\n",
            "  Qualifying Key: 9304\n",
            "  Race Key: 9205\n",
            "  Getting qualifying positions...\n",
            "  Getting race results...\n",
            "  Getting weather data...\n",
            "  ✅ Collected data for 20 drivers\n"
          ]
        },
        {
          "name": "stderr",
          "output_type": "stream",
          "text": [
            "Processing 2023 races:  91%|█████████ | 20/22 [02:15<00:13,  6.51s/it]"
          ]
        },
        {
          "name": "stdout",
          "output_type": "stream",
          "text": [
            "\n",
            "--- Processing: Las Vegas Grand Prix ---\n",
            "  Qualifying Key: 9314\n",
            "  Race Key: 9189\n",
            "  Getting qualifying positions...\n",
            "  Getting race results...\n",
            "  Getting weather data...\n",
            "  ✅ Collected data for 20 drivers\n"
          ]
        },
        {
          "name": "stderr",
          "output_type": "stream",
          "text": [
            "Processing 2023 races:  95%|█████████▌| 21/22 [02:22<00:06,  6.46s/it]"
          ]
        },
        {
          "name": "stdout",
          "output_type": "stream",
          "text": [
            "\n",
            "--- Processing: Abu Dhabi Grand Prix ---\n",
            "  Qualifying Key: 9193\n",
            "  Race Key: 9197\n",
            "  Getting qualifying positions...\n",
            "  Getting race results...\n",
            "  Getting weather data...\n",
            "  ✅ Collected data for 20 drivers\n"
          ]
        },
        {
          "name": "stderr",
          "output_type": "stream",
          "text": [
            "Processing 2023 races: 100%|██████████| 22/22 [02:28<00:00,  6.75s/it]\n"
          ]
        },
        {
          "name": "stdout",
          "output_type": "stream",
          "text": [
            "\n",
            "✅ Successfully collected data for 440 driver-race combinations in 2023\n",
            "\n",
            "📊 2023 DATA SUMMARY:\n",
            "Total driver-race combinations: 440\n",
            "Unique races: 22\n",
            "Unique drivers: 22\n",
            "Unique teams: 10\n",
            "\n",
            "--- Adding derived features ---\n"
          ]
        },
        {
          "name": "stderr",
          "output_type": "stream",
          "text": [
            "Adding features: 100%|██████████| 440/440 [00:02<00:00, 158.97it/s]"
          ]
        },
        {
          "name": "stdout",
          "output_type": "stream",
          "text": [
            "✅ Added derived features. Dataset now has 47 columns\n",
            "\n",
            "📋 SAMPLE OF ENHANCED DATASET:\n",
            "  meeting_meeting_name        full_name        team_name  qualifying_position  \\\n",
            "0   Bahrain Grand Prix   Max VERSTAPPEN  Red Bull Racing                    1   \n",
            "1   Bahrain Grand Prix   Logan SARGEANT         Williams                   16   \n",
            "2   Bahrain Grand Prix     Lando NORRIS          McLaren                   11   \n",
            "3   Bahrain Grand Prix     Pierre GASLY           Alpine                   20   \n",
            "4   Bahrain Grand Prix     Sergio PEREZ  Red Bull Racing                    2   \n",
            "5   Bahrain Grand Prix  Fernando ALONSO     Aston Martin                    5   \n",
            "6   Bahrain Grand Prix  Charles LECLERC          Ferrari                    3   \n",
            "7   Bahrain Grand Prix     Lance STROLL     Aston Martin                    8   \n",
            "8   Bahrain Grand Prix  Kevin MAGNUSSEN     Haas F1 Team                   17   \n",
            "9   Bahrain Grand Prix    Nyck DE VRIES       AlphaTauri                   19   \n",
            "\n",
            "   race_position  driver_races_completed  driver_recent_avg_position  \\\n",
            "0            1.0                       0                         NaN   \n",
            "1           12.0                       0                         NaN   \n",
            "2           17.0                       0                         NaN   \n",
            "3            9.0                       0                         NaN   \n",
            "4            2.0                       0                         NaN   \n",
            "5            3.0                       0                         NaN   \n",
            "6           19.0                       0                         NaN   \n",
            "7            6.0                       0                         NaN   \n",
            "8           13.0                       0                         NaN   \n",
            "9           14.0                       0                         NaN   \n",
            "\n",
            "   team_season_avg_position  is_wet_race  \n",
            "0                       NaN        False  \n",
            "1                       NaN        False  \n",
            "2                       NaN        False  \n",
            "3                       NaN        False  \n",
            "4                       NaN        False  \n",
            "5                       NaN        False  \n",
            "6                       NaN        False  \n",
            "7                       NaN        False  \n",
            "8                       NaN        False  \n",
            "9                       NaN        False  \n",
            "\n",
            "🔍 DATA QUALITY CHECK:\n",
            "Missing qualifying positions: 0\n",
            "Missing race positions: 0\n",
            "Weather data coverage: 440/440 races\n",
            "Generated features: 3/3 (driver_races_completed, driver_recent_avg_position, team_season_avg_position)\n",
            "\n",
            "🏆 TOP 3 FINISHES ANALYSIS:\n",
            "Total top 3 finishes: 66\n",
            "\n",
            "Qualifying position distribution for top 3 finishers:\n",
            "1     20\n",
            "2     12\n",
            "3     11\n",
            "4      6\n",
            "5      5\n",
            "6      2\n",
            "7      2\n",
            "9      2\n",
            "10     1\n",
            "12     3\n",
            "Name: qualifying_position, dtype: int64\n",
            "\n",
            "✅ 2023 data collection completed successfully!\n",
            "Ready to expand to 2022 and 2024, then proceed to ML modeling.\n",
            "\n",
            "🎯 NEXT STEPS:\n",
            "1. Expand collection to 2022 and 2024\n",
            "2. Handle new drivers (those with no historical data)\n",
            "3. Build and train ML models\n",
            "4. Validate on 2025 races\n"
          ]
        },
        {
          "name": "stderr",
          "output_type": "stream",
          "text": [
            "\n"
          ]
        }
      ],
      "source": [
        "# Main execution\n",
        "print(\"🏎️  F1 PREDICTIVE ANALYTICS DATA COLLECTION PIPELINE\")\n",
        "print(\"=\" * 60)\n",
        "\n",
        "# Start with 2023 to validate the approach\n",
        "print(\"Starting with 2023 data for validation...\")\n",
        "\n",
        "# Collect 2023 data\n",
        "data_2023 = collect_race_data(2023)\n",
        "\n",
        "if len(data_2023) > 0:\n",
        "    print(f\"\\n📊 2023 DATA SUMMARY:\")\n",
        "    print(f\"Total driver-race combinations: {len(data_2023)}\")\n",
        "    print(f\"Unique races: {data_2023['meeting_meeting_name'].nunique()}\")\n",
        "    print(f\"Unique drivers: {data_2023['driver_number'].nunique()}\")\n",
        "    print(f\"Unique teams: {data_2023['team_name'].nunique()}\")\n",
        "\n",
        "    # Add derived features\n",
        "    enhanced_2023 = add_derived_features(data_2023)\n",
        "\n",
        "    # Show sample of final data\n",
        "    print(f\"\\n📋 SAMPLE OF ENHANCED DATASET:\")\n",
        "    sample_cols = ['meeting_meeting_name', 'full_name', 'team_name', 'qualifying_position', 'race_position',\n",
        "                   'driver_races_completed', 'driver_recent_avg_position', 'team_season_avg_position', 'is_wet_race']\n",
        "    print(enhanced_2023[sample_cols].head(10))\n",
        "\n",
        "    # Show data quality\n",
        "    print(f\"\\n🔍 DATA QUALITY CHECK:\")\n",
        "    print(f\"Missing qualifying positions: {enhanced_2023['qualifying_position'].isna().sum()}\")\n",
        "    print(f\"Missing race positions: {enhanced_2023['race_position'].isna().sum()}\")\n",
        "\n",
        "    # Check for weather data\n",
        "    weather_cols = ['avg_air_temp', 'air_temperature', 'track_temperature']\n",
        "    weather_col = None\n",
        "    for col in weather_cols:\n",
        "        if col in enhanced_2023.columns:\n",
        "            weather_col = col\n",
        "            break\n",
        "\n",
        "    if weather_col:\n",
        "        print(f\"Weather data coverage: {enhanced_2023[weather_col].notna().sum()}/{len(enhanced_2023)} races\")\n",
        "    else:\n",
        "        print(\"Weather data: Not available\")\n",
        "\n",
        "    # Feature engineering summary\n",
        "    feature_cols = ['driver_races_completed', 'driver_recent_avg_position', 'team_season_avg_position']\n",
        "    available_features = [col for col in feature_cols if col in enhanced_2023.columns]\n",
        "    print(f\"Generated features: {len(available_features)}/{len(feature_cols)} ({', '.join(available_features)})\")\n",
        "\n",
        "    # Analysis of top 3 finishes\n",
        "    top3_analysis = enhanced_2023[enhanced_2023['race_position'] <= 3]\n",
        "    print(f\"\\n🏆 TOP 3 FINISHES ANALYSIS:\")\n",
        "    print(f\"Total top 3 finishes: {len(top3_analysis)}\")\n",
        "    print(\"\\nQualifying position distribution for top 3 finishers:\")\n",
        "    print(top3_analysis['qualifying_position'].value_counts().sort_index().head(10))\n",
        "\n",
        "    print(f\"\\n✅ 2023 data collection completed successfully!\")\n",
        "    print(f\"Ready to expand to 2022 and 2024, then proceed to ML modeling.\")\n",
        "\n",
        "else:\n",
        "    print(\"❌ Failed to collect 2023 data. Please check API connectivity.\")\n",
        "\n",
        "print(\"\\n🎯 NEXT STEPS:\")\n",
        "print(\"1. Expand collection to 2022 and 2024\")\n",
        "print(\"2. Handle new drivers (those with no historical data)\")\n",
        "print(\"3. Build and train ML models\")\n",
        "print(\"4. Validate on 2025 races\")"
      ]
    },
    {
      "cell_type": "code",
      "execution_count": 8,
      "metadata": {
        "colab": {
          "base_uri": "https://localhost:8080/"
        },
        "id": "YghM9Nza6JQh",
        "outputId": "e079b469-c1a2-4ef2-c07b-567acd49782a"
      },
      "outputs": [
        {
          "name": "stdout",
          "output_type": "stream",
          "text": [
            "\n",
            "==================================================\n",
            "COLLECTING DATA FOR 2024\n",
            "==================================================\n",
            "Found 24 Grand Prix meetings in 2024\n"
          ]
        },
        {
          "name": "stderr",
          "output_type": "stream",
          "text": [
            "Processing 2024 races:   0%|          | 0/24 [00:00<?, ?it/s]"
          ]
        },
        {
          "name": "stdout",
          "output_type": "stream",
          "text": [
            "\n",
            "--- Processing: Bahrain Grand Prix ---\n",
            "  Qualifying Key: 9468\n",
            "  Race Key: 9472\n",
            "  Getting qualifying positions...\n",
            "  Getting race results...\n",
            "  Getting weather data...\n",
            "  ✅ Collected data for 20 drivers\n"
          ]
        },
        {
          "name": "stderr",
          "output_type": "stream",
          "text": [
            "Processing 2024 races:   4%|▍         | 1/24 [00:07<02:43,  7.13s/it]"
          ]
        },
        {
          "name": "stdout",
          "output_type": "stream",
          "text": [
            "\n",
            "--- Processing: Saudi Arabian Grand Prix ---\n",
            "  Qualifying Key: 9476\n",
            "  Race Key: 9480\n",
            "  Getting qualifying positions...\n",
            "  Getting race results...\n",
            "  Getting weather data...\n",
            "  ✅ Collected data for 20 drivers\n"
          ]
        },
        {
          "name": "stderr",
          "output_type": "stream",
          "text": [
            "Processing 2024 races:   8%|▊         | 2/24 [00:13<02:30,  6.85s/it]"
          ]
        },
        {
          "name": "stdout",
          "output_type": "stream",
          "text": [
            "\n",
            "--- Processing: Australian Grand Prix ---\n",
            "  Qualifying Key: 9484\n",
            "  Race Key: 9488\n",
            "  Getting qualifying positions...\n",
            "  Getting race results...\n",
            "  Getting weather data...\n",
            "  ✅ Collected data for 19 drivers\n"
          ]
        },
        {
          "name": "stderr",
          "output_type": "stream",
          "text": [
            "Processing 2024 races:  12%|█▎        | 3/24 [00:19<02:16,  6.51s/it]"
          ]
        },
        {
          "name": "stdout",
          "output_type": "stream",
          "text": [
            "\n",
            "--- Processing: Japanese Grand Prix ---\n",
            "  Qualifying Key: 9492\n",
            "  Race Key: 9496\n",
            "  Getting qualifying positions...\n",
            "  Getting race results...\n",
            "  Getting weather data...\n",
            "  ✅ Collected data for 20 drivers\n"
          ]
        },
        {
          "name": "stderr",
          "output_type": "stream",
          "text": [
            "Processing 2024 races:  17%|█▋        | 4/24 [00:26<02:07,  6.36s/it]"
          ]
        },
        {
          "name": "stdout",
          "output_type": "stream",
          "text": [
            "\n",
            "--- Processing: Chinese Grand Prix ---\n",
            "  Qualifying Key: 9664\n",
            "  Race Key: 9673\n",
            "  Getting qualifying positions...\n",
            "  Getting race results...\n",
            "  Getting weather data...\n",
            "  ✅ Collected data for 20 drivers\n"
          ]
        },
        {
          "name": "stderr",
          "output_type": "stream",
          "text": [
            "Processing 2024 races:  21%|██        | 5/24 [00:32<01:59,  6.27s/it]"
          ]
        },
        {
          "name": "stdout",
          "output_type": "stream",
          "text": [
            "\n",
            "--- Processing: Miami Grand Prix ---\n",
            "  Qualifying Key: 9498\n",
            "  Race Key: 9507\n",
            "  Getting qualifying positions...\n",
            "  Getting race results...\n",
            "  Getting weather data...\n",
            "  ✅ Collected data for 20 drivers\n"
          ]
        },
        {
          "name": "stderr",
          "output_type": "stream",
          "text": [
            "Processing 2024 races:  25%|██▌       | 6/24 [00:38<01:52,  6.24s/it]"
          ]
        },
        {
          "name": "stdout",
          "output_type": "stream",
          "text": [
            "\n",
            "--- Processing: Emilia Romagna Grand Prix ---\n",
            "  Qualifying Key: 9511\n",
            "  Race Key: 9515\n",
            "  Getting qualifying positions...\n",
            "  Getting race results...\n",
            "  Getting weather data...\n",
            "  ✅ Collected data for 20 drivers\n"
          ]
        },
        {
          "name": "stderr",
          "output_type": "stream",
          "text": [
            "Processing 2024 races:  29%|██▉       | 7/24 [00:44<01:45,  6.22s/it]"
          ]
        },
        {
          "name": "stdout",
          "output_type": "stream",
          "text": [
            "\n",
            "--- Processing: Monaco Grand Prix ---\n",
            "  Qualifying Key: 9519\n",
            "  Race Key: 9523\n",
            "  Getting qualifying positions...\n",
            "  Getting race results...\n",
            "  Getting weather data...\n",
            "  ✅ Collected data for 20 drivers\n"
          ]
        },
        {
          "name": "stderr",
          "output_type": "stream",
          "text": [
            "Processing 2024 races:  33%|███▎      | 8/24 [00:50<01:38,  6.19s/it]"
          ]
        },
        {
          "name": "stdout",
          "output_type": "stream",
          "text": [
            "\n",
            "--- Processing: Canadian Grand Prix ---\n",
            "  Qualifying Key: 9527\n",
            "  Race Key: 9531\n",
            "  Getting qualifying positions...\n",
            "  Getting race results...\n",
            "  Getting weather data...\n",
            "  ✅ Collected data for 20 drivers\n"
          ]
        },
        {
          "name": "stderr",
          "output_type": "stream",
          "text": [
            "Processing 2024 races:  38%|███▊      | 9/24 [00:56<01:32,  6.16s/it]"
          ]
        },
        {
          "name": "stdout",
          "output_type": "stream",
          "text": [
            "\n",
            "--- Processing: Spanish Grand Prix ---\n",
            "  Qualifying Key: 9535\n",
            "  Race Key: 9539\n",
            "  Getting qualifying positions...\n",
            "  Getting race results...\n",
            "  Getting weather data...\n",
            "  ✅ Collected data for 20 drivers\n"
          ]
        },
        {
          "name": "stderr",
          "output_type": "stream",
          "text": [
            "Processing 2024 races:  42%|████▏     | 10/24 [01:04<01:35,  6.80s/it]"
          ]
        },
        {
          "name": "stdout",
          "output_type": "stream",
          "text": [
            "\n",
            "--- Processing: Austrian Grand Prix ---\n",
            "  Qualifying Key: 9541\n",
            "  Race Key: 9550\n",
            "  Getting qualifying positions...\n",
            "  Getting race results...\n",
            "  Getting weather data...\n",
            "  ✅ Collected data for 20 drivers\n"
          ]
        },
        {
          "name": "stderr",
          "output_type": "stream",
          "text": [
            "Processing 2024 races:  46%|████▌     | 11/24 [01:11<01:26,  6.69s/it]"
          ]
        },
        {
          "name": "stdout",
          "output_type": "stream",
          "text": [
            "\n",
            "--- Processing: British Grand Prix ---\n",
            "  Qualifying Key: 9554\n",
            "  Race Key: 9558\n",
            "  Getting qualifying positions...\n",
            "  Getting race results...\n",
            "  Getting weather data...\n",
            "  ✅ Collected data for 20 drivers\n"
          ]
        },
        {
          "name": "stderr",
          "output_type": "stream",
          "text": [
            "Processing 2024 races:  50%|█████     | 12/24 [01:18<01:20,  6.68s/it]"
          ]
        },
        {
          "name": "stdout",
          "output_type": "stream",
          "text": [
            "\n",
            "--- Processing: Hungarian Grand Prix ---\n",
            "  Qualifying Key: 9562\n",
            "  Race Key: 9566\n",
            "  Getting qualifying positions...\n",
            "  Getting race results...\n",
            "  Getting weather data...\n",
            "  ✅ Collected data for 20 drivers\n"
          ]
        },
        {
          "name": "stderr",
          "output_type": "stream",
          "text": [
            "Processing 2024 races:  54%|█████▍    | 13/24 [01:24<01:13,  6.71s/it]"
          ]
        },
        {
          "name": "stdout",
          "output_type": "stream",
          "text": [
            "\n",
            "--- Processing: Belgian Grand Prix ---\n",
            "  Qualifying Key: 9570\n",
            "  Race Key: 9574\n",
            "  Getting qualifying positions...\n",
            "  Getting race results...\n",
            "  Getting weather data...\n",
            "  ✅ Collected data for 20 drivers\n"
          ]
        },
        {
          "name": "stderr",
          "output_type": "stream",
          "text": [
            "Processing 2024 races:  58%|█████▊    | 14/24 [01:33<01:13,  7.37s/it]"
          ]
        },
        {
          "name": "stdout",
          "output_type": "stream",
          "text": [
            "\n",
            "--- Processing: Dutch Grand Prix ---\n",
            "  Qualifying Key: 9578\n",
            "  Race Key: 9582\n",
            "  Getting qualifying positions...\n",
            "  Getting race results...\n",
            "  Getting weather data...\n",
            "  ✅ Collected data for 20 drivers\n"
          ]
        },
        {
          "name": "stderr",
          "output_type": "stream",
          "text": [
            "Processing 2024 races:  62%|██████▎   | 15/24 [01:40<01:04,  7.17s/it]"
          ]
        },
        {
          "name": "stdout",
          "output_type": "stream",
          "text": [
            "\n",
            "--- Processing: Italian Grand Prix ---\n",
            "  Qualifying Key: 9586\n",
            "  Race Key: 9590\n",
            "  Getting qualifying positions...\n",
            "  Getting race results...\n",
            "  Getting weather data...\n",
            "  ✅ Collected data for 20 drivers\n"
          ]
        },
        {
          "name": "stderr",
          "output_type": "stream",
          "text": [
            "Processing 2024 races:  67%|██████▋   | 16/24 [01:46<00:55,  6.95s/it]"
          ]
        },
        {
          "name": "stdout",
          "output_type": "stream",
          "text": [
            "\n",
            "--- Processing: Azerbaijan Grand Prix ---\n",
            "  Qualifying Key: 9594\n",
            "  Race Key: 9598\n",
            "  Getting qualifying positions...\n",
            "  Getting race results...\n",
            "  Getting weather data...\n",
            "  ✅ Collected data for 20 drivers\n"
          ]
        },
        {
          "name": "stderr",
          "output_type": "stream",
          "text": [
            "Processing 2024 races:  71%|███████   | 17/24 [01:53<00:48,  6.97s/it]"
          ]
        },
        {
          "name": "stdout",
          "output_type": "stream",
          "text": [
            "\n",
            "--- Processing: Singapore Grand Prix ---\n",
            "  Qualifying Key: 9602\n",
            "  Race Key: 9606\n",
            "  Getting qualifying positions...\n",
            "  Getting race results...\n",
            "  Getting weather data...\n",
            "  ✅ Collected data for 20 drivers\n"
          ]
        },
        {
          "name": "stderr",
          "output_type": "stream",
          "text": [
            "Processing 2024 races:  75%|███████▌  | 18/24 [02:00<00:41,  6.86s/it]"
          ]
        },
        {
          "name": "stdout",
          "output_type": "stream",
          "text": [
            "\n",
            "--- Processing: United States Grand Prix ---\n",
            "  Qualifying Key: 9608\n",
            "  Race Key: 9617\n",
            "  Getting qualifying positions...\n",
            "  Getting race results...\n",
            "  Getting weather data...\n",
            "  ✅ Collected data for 20 drivers\n"
          ]
        },
        {
          "name": "stderr",
          "output_type": "stream",
          "text": [
            "Processing 2024 races:  79%|███████▉  | 19/24 [02:07<00:34,  6.96s/it]"
          ]
        },
        {
          "name": "stdout",
          "output_type": "stream",
          "text": [
            "\n",
            "--- Processing: Mexico City Grand Prix ---\n",
            "  Qualifying Key: 9621\n",
            "  Race Key: 9625\n",
            "  Getting qualifying positions...\n",
            "  Getting race results...\n",
            "  Getting weather data...\n",
            "  ✅ Collected data for 20 drivers\n"
          ]
        },
        {
          "name": "stderr",
          "output_type": "stream",
          "text": [
            "Processing 2024 races:  83%|████████▎ | 20/24 [02:14<00:27,  6.83s/it]"
          ]
        },
        {
          "name": "stdout",
          "output_type": "stream",
          "text": [
            "\n",
            "--- Processing: São Paulo Grand Prix ---\n",
            "  Qualifying Key: 9627\n",
            "  Race Key: 9636\n",
            "  Getting qualifying positions...\n",
            "  Getting race results...\n",
            "  Getting weather data...\n",
            "  ✅ Collected data for 20 drivers\n"
          ]
        },
        {
          "name": "stderr",
          "output_type": "stream",
          "text": [
            "Processing 2024 races:  88%|████████▊ | 21/24 [02:20<00:20,  6.74s/it]"
          ]
        },
        {
          "name": "stdout",
          "output_type": "stream",
          "text": [
            "\n",
            "--- Processing: Las Vegas Grand Prix ---\n",
            "  Qualifying Key: 9640\n",
            "  Race Key: 9644\n",
            "  Getting qualifying positions...\n",
            "  Getting race results...\n",
            "  Getting weather data...\n",
            "  ✅ Collected data for 20 drivers\n"
          ]
        },
        {
          "name": "stderr",
          "output_type": "stream",
          "text": [
            "Processing 2024 races:  92%|█████████▏| 22/24 [02:27<00:13,  6.67s/it]"
          ]
        },
        {
          "name": "stdout",
          "output_type": "stream",
          "text": [
            "\n",
            "--- Processing: Qatar Grand Prix ---\n",
            "  Qualifying Key: 9646\n",
            "  Race Key: 9655\n",
            "  Getting qualifying positions...\n",
            "  Getting race results...\n",
            "  Getting weather data...\n",
            "  ✅ Collected data for 20 drivers\n"
          ]
        },
        {
          "name": "stderr",
          "output_type": "stream",
          "text": [
            "Processing 2024 races:  96%|█████████▌| 23/24 [02:33<00:06,  6.55s/it]"
          ]
        },
        {
          "name": "stdout",
          "output_type": "stream",
          "text": [
            "\n",
            "--- Processing: Abu Dhabi Grand Prix ---\n",
            "  Qualifying Key: 9658\n",
            "  Race Key: 9662\n",
            "  Getting qualifying positions...\n",
            "  Getting race results...\n",
            "  Getting weather data...\n",
            "  ✅ Collected data for 20 drivers\n"
          ]
        },
        {
          "name": "stderr",
          "output_type": "stream",
          "text": [
            "Processing 2024 races: 100%|██████████| 24/24 [02:39<00:00,  6.65s/it]"
          ]
        },
        {
          "name": "stdout",
          "output_type": "stream",
          "text": [
            "\n",
            "✅ Successfully collected data for 479 driver-race combinations in 2024\n"
          ]
        },
        {
          "name": "stderr",
          "output_type": "stream",
          "text": [
            "\n"
          ]
        }
      ],
      "source": [
        "data_2024 = collect_race_data(2024)"
      ]
    },
    {
      "cell_type": "code",
      "execution_count": 9,
      "metadata": {},
      "outputs": [
        {
          "name": "stdout",
          "output_type": "stream",
          "text": [
            "\n",
            "==================================================\n",
            "COLLECTING DATA FOR 2025\n",
            "==================================================\n",
            "Found 11 Grand Prix meetings in 2025\n"
          ]
        },
        {
          "name": "stderr",
          "output_type": "stream",
          "text": [
            "Processing 2025 races:   0%|          | 0/11 [00:00<?, ?it/s]"
          ]
        },
        {
          "name": "stdout",
          "output_type": "stream",
          "text": [
            "\n",
            "--- Processing: Australian Grand Prix ---\n",
            "  Qualifying Key: 9689\n",
            "  Race Key: 9693\n",
            "  Getting qualifying positions...\n",
            "  Getting race results...\n",
            "  Getting weather data...\n",
            "  ✅ Collected data for 20 drivers\n"
          ]
        },
        {
          "name": "stderr",
          "output_type": "stream",
          "text": [
            "Processing 2025 races:   9%|▉         | 1/11 [00:06<01:00,  6.05s/it]"
          ]
        },
        {
          "name": "stdout",
          "output_type": "stream",
          "text": [
            "\n",
            "--- Processing: Chinese Grand Prix ---\n",
            "  Qualifying Key: 9994\n",
            "  Race Key: 9998\n",
            "  Getting qualifying positions...\n",
            "  Getting race results...\n",
            "  Getting weather data...\n",
            "  ✅ Collected data for 20 drivers\n"
          ]
        },
        {
          "name": "stderr",
          "output_type": "stream",
          "text": [
            "Processing 2025 races:  18%|█▊        | 2/11 [00:12<00:55,  6.16s/it]"
          ]
        },
        {
          "name": "stdout",
          "output_type": "stream",
          "text": [
            "\n",
            "--- Processing: Japanese Grand Prix ---\n",
            "  Qualifying Key: 10002\n",
            "  Race Key: 10006\n",
            "  Getting qualifying positions...\n",
            "  Getting race results...\n",
            "  Getting weather data...\n",
            "  ✅ Collected data for 20 drivers\n"
          ]
        },
        {
          "name": "stderr",
          "output_type": "stream",
          "text": [
            "Processing 2025 races:  27%|██▋       | 3/11 [00:18<00:49,  6.21s/it]"
          ]
        },
        {
          "name": "stdout",
          "output_type": "stream",
          "text": [
            "\n",
            "--- Processing: Bahrain Grand Prix ---\n",
            "  Qualifying Key: 10010\n",
            "  Race Key: 10014\n",
            "  Getting qualifying positions...\n",
            "  Getting race results...\n",
            "  Getting weather data...\n",
            "  ✅ Collected data for 20 drivers\n"
          ]
        },
        {
          "name": "stderr",
          "output_type": "stream",
          "text": [
            "Processing 2025 races:  36%|███▋      | 4/11 [00:24<00:43,  6.16s/it]"
          ]
        },
        {
          "name": "stdout",
          "output_type": "stream",
          "text": [
            "\n",
            "--- Processing: Saudi Arabian Grand Prix ---\n",
            "  Qualifying Key: 10018\n",
            "  Race Key: 10022\n",
            "  Getting qualifying positions...\n",
            "  Getting race results...\n",
            "  Getting weather data...\n",
            "  ✅ Collected data for 20 drivers\n"
          ]
        },
        {
          "name": "stderr",
          "output_type": "stream",
          "text": [
            "Processing 2025 races:  45%|████▌     | 5/11 [00:30<00:36,  6.13s/it]"
          ]
        },
        {
          "name": "stdout",
          "output_type": "stream",
          "text": [
            "\n",
            "--- Processing: Miami Grand Prix ---\n",
            "  Qualifying Key: 10029\n",
            "  Race Key: 10033\n",
            "  Getting qualifying positions...\n",
            "  Getting race results...\n",
            "  Getting weather data...\n",
            "  ✅ Collected data for 20 drivers\n"
          ]
        },
        {
          "name": "stderr",
          "output_type": "stream",
          "text": [
            "Processing 2025 races:  55%|█████▍    | 6/11 [00:36<00:30,  6.11s/it]"
          ]
        },
        {
          "name": "stdout",
          "output_type": "stream",
          "text": [
            "\n",
            "--- Processing: Emilia Romagna Grand Prix ---\n",
            "  Qualifying Key: 9983\n",
            "  Race Key: 9987\n",
            "  Getting qualifying positions...\n",
            "  Getting race results...\n",
            "  Getting weather data...\n",
            "  ✅ Collected data for 20 drivers\n"
          ]
        },
        {
          "name": "stderr",
          "output_type": "stream",
          "text": [
            "Processing 2025 races:  64%|██████▎   | 7/11 [00:43<00:24,  6.18s/it]"
          ]
        },
        {
          "name": "stdout",
          "output_type": "stream",
          "text": [
            "\n",
            "--- Processing: Monaco Grand Prix ---\n",
            "  Qualifying Key: 9975\n",
            "  Race Key: 9979\n",
            "  Getting qualifying positions...\n",
            "  Getting race results...\n",
            "  Getting weather data...\n",
            "  ✅ Collected data for 20 drivers\n"
          ]
        },
        {
          "name": "stderr",
          "output_type": "stream",
          "text": [
            "Processing 2025 races:  73%|███████▎  | 8/11 [00:49<00:18,  6.16s/it]"
          ]
        },
        {
          "name": "stdout",
          "output_type": "stream",
          "text": [
            "\n",
            "--- Processing: Spanish Grand Prix ---\n",
            "  Qualifying Key: 9967\n",
            "  Race Key: 9971\n",
            "  Getting qualifying positions...\n",
            "  Getting race results...\n",
            "  Getting weather data...\n",
            "  ✅ Collected data for 20 drivers\n"
          ]
        },
        {
          "name": "stderr",
          "output_type": "stream",
          "text": [
            "Processing 2025 races:  82%|████████▏ | 9/11 [00:55<00:12,  6.17s/it]"
          ]
        },
        {
          "name": "stdout",
          "output_type": "stream",
          "text": [
            "\n",
            "--- Processing: Canadian Grand Prix ---\n",
            "  Qualifying Key: 9959\n",
            "  Race Key: 9963\n",
            "  Getting qualifying positions...\n",
            "  Getting race results...\n",
            "  Getting weather data...\n",
            "  ✅ Collected data for 20 drivers\n"
          ]
        },
        {
          "name": "stderr",
          "output_type": "stream",
          "text": [
            "Processing 2025 races: 100%|██████████| 11/11 [01:01<00:00,  5.60s/it]"
          ]
        },
        {
          "name": "stdout",
          "output_type": "stream",
          "text": [
            "\n",
            "--- Processing: Austrian Grand Prix ---\n",
            "  No qualifying session found for Austrian Grand Prix\n",
            "\n",
            "✅ Successfully collected data for 200 driver-race combinations in 2025\n"
          ]
        },
        {
          "name": "stderr",
          "output_type": "stream",
          "text": [
            "\n"
          ]
        }
      ],
      "source": [
        "data_2025 = collect_race_data(2025)"
      ]
    },
    {
      "cell_type": "code",
      "execution_count": 10,
      "metadata": {
        "colab": {
          "base_uri": "https://localhost:8080/"
        },
        "id": "qpCPFw3K17xj",
        "outputId": "25da3c26-7081-4f11-e197-7dcfd681644f"
      },
      "outputs": [
        {
          "name": "stdout",
          "output_type": "stream",
          "text": [
            "🏎️  COMBINING F1 DATA (2023-2024)\n",
            "==================================================\n",
            "✅ 2023 data: 440 driver-race combinations\n",
            "✅ 2024 data: 479 driver-race combinations\n",
            "✅ 2025 data: 200 driver-race combinations\n",
            "ℹ️  Note: Using 2023-2025 data only (2022 not available)\n",
            "\n",
            "Combining 3 datasets...\n",
            "✅ Training dataset: 1119 total driver-race combinations\n"
          ]
        }
      ],
      "source": [
        "# Combine 2023 and 2024 data only\n",
        "print(\"🏎️  COMBINING F1 DATA (2023-2024)\")\n",
        "print(\"=\" * 50)\n",
        "\n",
        "# Check what data we have\n",
        "datasets = []\n",
        "dataset_info = []\n",
        "\n",
        "if 'data_2023' in locals() and len(data_2023) > 0:\n",
        "    datasets.append(data_2023)\n",
        "    dataset_info.append(f\"2023: {len(data_2023)} records\")\n",
        "    print(f\"✅ 2023 data: {len(data_2023)} driver-race combinations\")\n",
        "\n",
        "if 'data_2024' in locals() and len(data_2024) > 0:\n",
        "    datasets.append(data_2024)\n",
        "    dataset_info.append(f\"2024: {len(data_2024)} records\")\n",
        "    print(f\"✅ 2024 data: {len(data_2024)} driver-race combinations\")\n",
        "\n",
        "if 'data_2025' in locals() and len(data_2025) > 0:\n",
        "    datasets.append(data_2025)\n",
        "    dataset_info.append(f\"2025: {len(data_2025)} records\")\n",
        "    print(f\"✅ 2025 data: {len(data_2025)} driver-race combinations\")\n",
        "\n",
        "print(f\"ℹ️  Note: Using 2023-2025 data only (2022 not available)\")\n",
        "\n",
        "if len(datasets) == 0:\n",
        "    print(\"❌ No datasets found. Please ensure data_2023 and data_2024 are loaded.\")\n",
        "elif len(datasets) == 1:\n",
        "    print(\"⚠️  Only one year of data found. Using single year for training.\")\n",
        "    combined_data = datasets[0]\n",
        "else:\n",
        "    # Combine both datasets\n",
        "    print(f\"\\nCombining {len(datasets)} datasets...\")\n",
        "    combined_data = pd.concat(datasets, ignore_index=True)\n",
        "\n",
        "print(f\"✅ Training dataset: {len(combined_data)} total driver-race combinations\")"
      ]
    },
    {
      "cell_type": "code",
      "execution_count": 11,
      "metadata": {
        "colab": {
          "base_uri": "https://localhost:8080/"
        },
        "id": "9ZzRsRc-5VJv",
        "outputId": "08f7d8f1-033c-4c13-e30e-39b44a13fc73"
      },
      "outputs": [
        {
          "name": "stdout",
          "output_type": "stream",
          "text": [
            "\n",
            "📊 DATA DISTRIBUTION:\n",
            "  2023: 440 driver-race combinations (~22 races)\n",
            "  2024: 479 driver-race combinations (~23 races)\n",
            "  2025: 200 driver-race combinations (~10 races)\n",
            "  Total: ~55 races across 3 years\n",
            "\n",
            "🔍 DATA CONSISTENCY CHECK:\n",
            "Columns in combined dataset: 29\n",
            "Unique drivers across all years: 32\n",
            "Unique teams across all years: 13\n",
            "Unique race meetings: 24\n",
            "\n",
            "==================== FEATURE ENGINEERING ====================\n",
            "Adding derived features to combined dataset...\n",
            "This will take a few minutes as we calculate historical features...\n",
            "\n",
            "--- Adding derived features ---\n"
          ]
        },
        {
          "name": "stderr",
          "output_type": "stream",
          "text": [
            "Adding features:   0%|          | 0/1119 [00:00<?, ?it/s]"
          ]
        },
        {
          "name": "stderr",
          "output_type": "stream",
          "text": [
            "Adding features: 100%|██████████| 1119/1119 [00:08<00:00, 137.19it/s]"
          ]
        },
        {
          "name": "stdout",
          "output_type": "stream",
          "text": [
            "✅ Added derived features. Dataset now has 47 columns\n",
            "\n",
            "==================================================\n",
            "🏁 FINAL TRAINING DATASET SUMMARY\n",
            "==================================================\n",
            "Total driver-race combinations: 1119\n",
            "Total races: 24\n",
            "Years covered: [2023, 2024, 2025]\n",
            "Unique drivers: 32\n",
            "Unique teams: 13\n",
            "Total features: 47\n",
            "\n",
            "📋 SAMPLE OF FINAL TRAINING DATASET:\n",
            "  meeting_meeting_name  meeting_year        full_name        team_name  \\\n",
            "0   Bahrain Grand Prix          2023   Max VERSTAPPEN  Red Bull Racing   \n",
            "1   Bahrain Grand Prix          2023   Logan SARGEANT         Williams   \n",
            "2   Bahrain Grand Prix          2023     Lando NORRIS          McLaren   \n",
            "3   Bahrain Grand Prix          2023     Pierre GASLY           Alpine   \n",
            "4   Bahrain Grand Prix          2023     Sergio PEREZ  Red Bull Racing   \n",
            "5   Bahrain Grand Prix          2023  Fernando ALONSO     Aston Martin   \n",
            "6   Bahrain Grand Prix          2023  Charles LECLERC          Ferrari   \n",
            "7   Bahrain Grand Prix          2023     Lance STROLL     Aston Martin   \n",
            "8   Bahrain Grand Prix          2023  Kevin MAGNUSSEN     Haas F1 Team   \n",
            "9   Bahrain Grand Prix          2023    Nyck DE VRIES       AlphaTauri   \n",
            "\n",
            "   qualifying_position  race_position  driver_races_completed  \\\n",
            "0                    1            1.0                       0   \n",
            "1                   16           12.0                       0   \n",
            "2                   11           17.0                       0   \n",
            "3                   20            9.0                       0   \n",
            "4                    2            2.0                       0   \n",
            "5                    5            3.0                       0   \n",
            "6                    3           19.0                       0   \n",
            "7                    8            6.0                       0   \n",
            "8                   17           13.0                       0   \n",
            "9                   19           14.0                       0   \n",
            "\n",
            "   driver_recent_avg_position  team_season_avg_position  is_wet_race  \n",
            "0                         NaN                       NaN        False  \n",
            "1                         NaN                       NaN        False  \n",
            "2                         NaN                       NaN        False  \n",
            "3                         NaN                       NaN        False  \n",
            "4                         NaN                       NaN        False  \n",
            "5                         NaN                       NaN        False  \n",
            "6                         NaN                       NaN        False  \n",
            "7                         NaN                       NaN        False  \n",
            "8                         NaN                       NaN        False  \n",
            "9                         NaN                       NaN        False  \n",
            "\n",
            "👤 DRIVER EVOLUTION EXAMPLE (Max Verstappen):\n",
            "     meeting_year      meeting_meeting_name  qualifying_position  \\\n",
            "0            2023        Bahrain Grand Prix                    1   \n",
            "20           2023  Saudi Arabian Grand Prix                   15   \n",
            "40           2023     Australian Grand Prix                    1   \n",
            "60           2023     Azerbaijan Grand Prix                    2   \n",
            "80           2023          Miami Grand Prix                    9   \n",
            "100          2023         Monaco Grand Prix                    1   \n",
            "120          2023        Spanish Grand Prix                    1   \n",
            "140          2023       Canadian Grand Prix                    1   \n",
            "160          2023       Austrian Grand Prix                    1   \n",
            "180          2023        British Grand Prix                    1   \n",
            "\n",
            "     race_position  driver_races_completed  driver_career_wins  \n",
            "0              1.0                       0                   0  \n",
            "20             2.0                       1                   1  \n",
            "40             1.0                       2                   1  \n",
            "60             2.0                       3                   2  \n",
            "80             1.0                       4                   2  \n",
            "100            1.0                       5                   3  \n",
            "120            1.0                       6                   4  \n",
            "140            1.0                       7                   5  \n",
            "160            1.0                       8                   6  \n",
            "180            1.0                       9                   7  \n",
            "\n",
            "🔍 FINAL DATA QUALITY CHECK:\n",
            "Missing qualifying positions: 0\n",
            "Missing race positions: 0\n",
            "Weather data coverage: 1119/1119 records (100.0%)\n",
            "Generated features: 6 features\n",
            "\n",
            "Key derived features:\n",
            "  - driver_races_completed: 1119/1119 non-null (100.0%)\n",
            "  - driver_recent_avg_position: 1087/1119 non-null (97.1%)\n",
            "  - team_season_avg_position: 1059/1119 non-null (94.6%)\n",
            "  - driver_circuit_avg_position: 546/1119 non-null (48.8%)\n",
            "  - driver_career_wins: 1119/1119 non-null (100.0%)\n",
            "  - team_season_wins: 1119/1119 non-null (100.0%)\n",
            "\n",
            "🏆 TOP 3 FINISHES ANALYSIS (ALL YEARS):\n",
            "Total top 3 finishes: 168\n",
            "\n",
            "Qualifying position distribution for top 3 finishers:\n",
            "  P1: 47 times (28.0%)\n",
            "  P2: 37 times (22.0%)\n",
            "  P3: 25 times (14.9%)\n",
            "  P4: 24 times (14.3%)\n",
            "  P5: 13 times (7.7%)\n",
            "  P6: 5 times (3.0%)\n",
            "  P7: 5 times (3.0%)\n",
            "  P9: 2 times (1.2%)\n",
            "  P10: 2 times (1.2%)\n",
            "  P12: 4 times (2.4%)\n",
            "  P14: 1 times (0.6%)\n",
            "  P15: 3 times (1.8%)\n",
            "\n",
            "🆕 NEW DRIVERS ANALYSIS:\n",
            "  2023: 22 new drivers - ['Max VERSTAPPEN', 'Logan SARGEANT', 'Lando NORRIS', 'Pierre GASLY', 'Sergio PEREZ', 'Fernando ALONSO', 'Charles LECLERC', 'Lance STROLL', 'Kevin MAGNUSSEN', 'Nyck DE VRIES', 'Yuki TSUNODA', 'Alexander ALBON', 'ZHOU Guanyu', 'Nico HULKENBERG', 'Esteban OCON', 'Lewis HAMILTON', 'Carlos SAINZ', 'George RUSSELL', 'Valtteri BOTTAS', 'Oscar PIASTRI', 'Daniel RICCIARDO', 'Liam LAWSON']\n",
            "  2024: 4 new drivers - ['Oliver BEARMAN', 'Franco COLAPINTO', 'Liam LAWSON', 'Jack DOOHAN']\n",
            "  2025: 5 new drivers - ['Gabriel BORTOLETO', 'Isack HADJAR', 'Jack DOOHAN', 'Andrea Kimi ANTONELLI', 'Oliver BEARMAN']\n",
            "\n",
            "🏎️ TEAM PERFORMANCE EVOLUTION:\n",
            "  Red Bull Racing:\n",
            "    2023: Avg position 3.6\n",
            "    2024: Avg position 6.7\n",
            "    2025: Avg position 8.4\n",
            "  Ferrari:\n",
            "    2023: Avg position 7.5\n",
            "    2024: Avg position 5.2\n",
            "    2025: Avg position 5.5\n",
            "  Mercedes:\n",
            "    2023: Avg position 6.8\n",
            "    2024: Avg position 6.5\n",
            "    2025: Avg position 7.2\n",
            "\n",
            "💾 DATASET READY FOR ML MODELING!\n",
            "✅ Data collection: 1119 records across 2023-2024\n",
            "✅ Feature engineering: 47 total features\n",
            "✅ Data quality: High (1119/1119 complete records)\n",
            "\n",
            "🎯 TRAINING STRATEGY WITH 2023-2024 DATA:\n",
            "  - Use 2023 as primary training data\n",
            "  - Use early 2024 races for validation\n",
            "  - Predict remaining 2024 races or 2025 races\n",
            "  - Historical features will be built from 2023 data for 2024 predictions\n",
            "\n",
            "🎯 KEY FEATURES FOR ML MODEL:\n",
            "  1. qualifying_position: 100.0% coverage\n",
            "  2. driver_races_completed: 100.0% coverage\n",
            "  3. driver_recent_avg_position: 97.1% coverage\n",
            "  4. team_season_avg_position: 94.6% coverage\n",
            "  5. driver_circuit_avg_position: 48.8% coverage\n",
            "  6. is_wet_race: 100.0% coverage\n",
            "  7. driver_career_wins: 100.0% coverage\n",
            "  8. driver_career_podiums: 100.0% coverage\n",
            "\n",
            "🚀 READY FOR NEXT PHASE: ML MODEL DEVELOPMENT!\n",
            "Use the 'enhanced_combined' DataFrame for training your models.\n"
          ]
        },
        {
          "name": "stderr",
          "output_type": "stream",
          "text": [
            "\n"
          ]
        }
      ],
      "source": [
        "# Show data distribution by year\n",
        "print(f\"\\n📊 DATA DISTRIBUTION:\")\n",
        "year_col = 'meeting_year'\n",
        "if year_col in combined_data.columns:\n",
        "    year_distribution = combined_data[year_col].value_counts().sort_index()\n",
        "    total_races = 0\n",
        "    for year, count in year_distribution.items():\n",
        "        races = count // 20  # Assuming ~20 drivers per race\n",
        "        total_races += races\n",
        "        print(f\"  {year}: {count} driver-race combinations (~{races} races)\")\n",
        "    print(f\"  Total: ~{total_races} races across {len(year_distribution)} years\")\n",
        "\n",
        "# Check data consistency\n",
        "print(f\"\\n🔍 DATA CONSISTENCY CHECK:\")\n",
        "print(f\"Columns in combined dataset: {len(combined_data.columns)}\")\n",
        "print(f\"Unique drivers across all years: {combined_data['driver_number'].nunique()}\")\n",
        "print(f\"Unique teams across all years: {combined_data['team_name'].nunique()}\")\n",
        "\n",
        "# Show some basic statistics\n",
        "meeting_name_col = 'meeting_meeting_name'\n",
        "if meeting_name_col in combined_data.columns:\n",
        "    print(f\"Unique race meetings: {combined_data[meeting_name_col].nunique()}\")\n",
        "\n",
        "# Add derived features to the combined dataset\n",
        "print(f\"\\n{'='*20} FEATURE ENGINEERING {'='*20}\")\n",
        "print(\"Adding derived features to combined dataset...\")\n",
        "print(\"This will take a few minutes as we calculate historical features...\")\n",
        "\n",
        "enhanced_combined = add_derived_features(combined_data)\n",
        "\n",
        "# Final dataset summary\n",
        "print(f\"\\n{'='*50}\")\n",
        "print(f\"🏁 FINAL TRAINING DATASET SUMMARY\")\n",
        "print(f\"{'='*50}\")\n",
        "\n",
        "print(f\"Total driver-race combinations: {len(enhanced_combined)}\")\n",
        "print(f\"Total races: {enhanced_combined[meeting_name_col].nunique()}\")\n",
        "print(f\"Years covered: {sorted(enhanced_combined['meeting_year'].unique())}\")\n",
        "print(f\"Unique drivers: {enhanced_combined['driver_number'].nunique()}\")\n",
        "print(f\"Unique teams: {enhanced_combined['team_name'].nunique()}\")\n",
        "print(f\"Total features: {len(enhanced_combined.columns)}\")\n",
        "\n",
        "# Show sample of enhanced dataset\n",
        "print(f\"\\n📋 SAMPLE OF FINAL TRAINING DATASET:\")\n",
        "sample_cols = [meeting_name_col, 'meeting_year', 'full_name', 'team_name',\n",
        "                'qualifying_position', 'race_position', 'driver_races_completed',\n",
        "                'driver_recent_avg_position', 'team_season_avg_position', 'is_wet_race']\n",
        "available_sample_cols = [col for col in sample_cols if col in enhanced_combined.columns]\n",
        "print(enhanced_combined[available_sample_cols].head(10))\n",
        "\n",
        "# Show evolution of a driver across years\n",
        "print(f\"\\n👤 DRIVER EVOLUTION EXAMPLE (Max Verstappen):\")\n",
        "verstappen_data = enhanced_combined[enhanced_combined['full_name'] == 'Max VERSTAPPEN'].copy()\n",
        "if len(verstappen_data) > 0:\n",
        "    verstappen_sample = verstappen_data[['meeting_year', meeting_name_col, 'qualifying_position',\n",
        "                                        'race_position', 'driver_races_completed', 'driver_career_wins']].head(10)\n",
        "    print(verstappen_sample)\n",
        "\n",
        "# Data quality check\n",
        "print(f\"\\n🔍 FINAL DATA QUALITY CHECK:\")\n",
        "print(f\"Missing qualifying positions: {enhanced_combined['qualifying_position'].isna().sum()}\")\n",
        "print(f\"Missing race positions: {enhanced_combined['race_position'].isna().sum()}\")\n",
        "\n",
        "# Weather data coverage\n",
        "weather_col = 'avg_air_temp'\n",
        "if weather_col in enhanced_combined.columns:\n",
        "    weather_coverage = enhanced_combined[weather_col].notna().sum()\n",
        "    print(f\"Weather data coverage: {weather_coverage}/{len(enhanced_combined)} records ({weather_coverage/len(enhanced_combined)*100:.1f}%)\")\n",
        "\n",
        "# Feature engineering summary\n",
        "feature_cols = ['driver_races_completed', 'driver_recent_avg_position', 'team_season_avg_position',\n",
        "                'driver_circuit_avg_position', 'driver_career_wins', 'team_season_wins']\n",
        "available_features = [col for col in feature_cols if col in enhanced_combined.columns]\n",
        "print(f\"Generated features: {len(available_features)} features\")\n",
        "\n",
        "print(f\"\\nKey derived features:\")\n",
        "for feature in available_features:\n",
        "    non_null = enhanced_combined[feature].notna().sum()\n",
        "    print(f\"  - {feature}: {non_null}/{len(enhanced_combined)} non-null ({non_null/len(enhanced_combined)*100:.1f}%)\")\n",
        "\n",
        "# Top 3 analysis across all years\n",
        "top3_analysis = enhanced_combined[enhanced_combined['race_position'] <= 3]\n",
        "print(f\"\\n🏆 TOP 3 FINISHES ANALYSIS (ALL YEARS):\")\n",
        "print(f\"Total top 3 finishes: {len(top3_analysis)}\")\n",
        "\n",
        "print(\"\\nQualifying position distribution for top 3 finishers:\")\n",
        "qual_dist = top3_analysis['qualifying_position'].value_counts().sort_index().head(15)\n",
        "for pos, count in qual_dist.items():\n",
        "    percentage = (count / len(top3_analysis)) * 100\n",
        "    print(f\"  P{pos}: {count} times ({percentage:.1f}%)\")\n",
        "\n",
        "# New drivers analysis\n",
        "print(f\"\\n🆕 NEW DRIVERS ANALYSIS:\")\n",
        "for year in sorted(enhanced_combined['meeting_year'].unique()):\n",
        "    year_data = enhanced_combined[enhanced_combined['meeting_year'] == year]\n",
        "    new_drivers = year_data[year_data['driver_races_completed'] == 0]\n",
        "    if len(new_drivers) > 0:\n",
        "        new_driver_names = new_drivers['full_name'].unique()\n",
        "        print(f\"  {year}: {len(new_driver_names)} new drivers - {list(new_driver_names)}\")\n",
        "    else:\n",
        "        print(f\"  {year}: No new drivers\")\n",
        "\n",
        "# Team performance evolution\n",
        "print(f\"\\n🏎️ TEAM PERFORMANCE EVOLUTION:\")\n",
        "team_year_performance = enhanced_combined.groupby(['team_name', 'meeting_year'])['race_position'].mean().reset_index()\n",
        "team_year_performance = team_year_performance.sort_values(['team_name', 'meeting_year'])\n",
        "\n",
        "# Show a few teams as examples\n",
        "example_teams = ['Red Bull Racing', 'Ferrari', 'Mercedes']\n",
        "for team in example_teams:\n",
        "    team_data = team_year_performance[team_year_performance['team_name'] == team]\n",
        "    if len(team_data) > 0:\n",
        "        print(f\"  {team}:\")\n",
        "        for _, row in team_data.iterrows():\n",
        "            print(f\"    {int(row['meeting_year'])}: Avg position {row['race_position']:.1f}\")\n",
        "\n",
        "# Final dataset ready message\n",
        "print(f\"\\n💾 DATASET READY FOR ML MODELING!\")\n",
        "print(f\"✅ Data collection: {len(enhanced_combined)} records across 2023-2024\")\n",
        "print(f\"✅ Feature engineering: {len(enhanced_combined.columns)} total features\")\n",
        "print(f\"✅ Data quality: High ({enhanced_combined['qualifying_position'].notna().sum()}/{len(enhanced_combined)} complete records)\")\n",
        "\n",
        "print(f\"\\n🎯 TRAINING STRATEGY WITH 2023-2024 DATA:\")\n",
        "print(f\"  - Use 2023 as primary training data\")\n",
        "print(f\"  - Use early 2024 races for validation\")\n",
        "print(f\"  - Predict remaining 2024 races or 2025 races\")\n",
        "print(f\"  - Historical features will be built from 2023 data for 2024 predictions\")\n",
        "\n",
        "print(f\"\\n🎯 KEY FEATURES FOR ML MODEL:\")\n",
        "key_features = ['qualifying_position', 'driver_races_completed', 'driver_recent_avg_position',\n",
        "                'team_season_avg_position', 'driver_circuit_avg_position', 'is_wet_race',\n",
        "                'driver_career_wins', 'driver_career_podiums']\n",
        "available_key_features = [f for f in key_features if f in enhanced_combined.columns]\n",
        "for i, feature in enumerate(available_key_features, 1):\n",
        "    non_null = enhanced_combined[feature].notna().sum()\n",
        "    print(f\"  {i}. {feature}: {non_null/len(enhanced_combined)*100:.1f}% coverage\")\n",
        "\n",
        "print(f\"\\n🚀 READY FOR NEXT PHASE: ML MODEL DEVELOPMENT!\")\n",
        "print(f\"Use the 'enhanced_combined' DataFrame for training your models.\")"
      ]
    },
    {
      "cell_type": "code",
      "execution_count": 12,
      "metadata": {
        "id": "3URnQwTO-rZP"
      },
      "outputs": [],
      "source": [
        "import pandas as pd\n",
        "import numpy as np\n",
        "from sklearn.model_selection import train_test_split, cross_val_score, GridSearchCV\n",
        "from sklearn.ensemble import RandomForestClassifier, GradientBoostingClassifier\n",
        "from sklearn.linear_model import LogisticRegression\n",
        "from sklearn.preprocessing import StandardScaler, LabelEncoder\n",
        "from sklearn.metrics import classification_report, confusion_matrix, roc_auc_score, roc_curve\n",
        "from sklearn.impute import SimpleImputer\n",
        "import matplotlib.pyplot as plt\n",
        "import seaborn as sns\n",
        "import warnings\n",
        "warnings.filterwarnings('ignore')"
      ]
    },
    {
      "cell_type": "markdown",
      "metadata": {},
      "source": [
        "#### DELETE UPTIL HERE"
      ]
    },
    {
      "cell_type": "code",
      "execution_count": 17,
      "metadata": {},
      "outputs": [
        {
          "data": {
            "text/plain": [
              "Index(['driver_number', 'qualifying_position', 'race_position', 'full_name',\n",
              "       'name_acronym', 'team_name', 'country_code', 'meeting_meeting_key',\n",
              "       'meeting_circuit_key', 'meeting_circuit_short_name',\n",
              "       'meeting_meeting_code', 'meeting_location', 'meeting_country_key',\n",
              "       'meeting_country_code', 'meeting_country_name', 'meeting_meeting_name',\n",
              "       'meeting_meeting_official_name', 'meeting_gmt_offset',\n",
              "       'meeting_date_start', 'meeting_year', 'qualifying_session_key',\n",
              "       'race_session_key', 'avg_air_temp', 'avg_track_temp', 'avg_humidity',\n",
              "       'total_rainfall', 'max_rainfall', 'avg_wind_speed', 'is_wet_race',\n",
              "       'driver_races_completed', 'driver_career_wins', 'driver_career_podiums',\n",
              "       'driver_career_top5', 'driver_career_points_rate',\n",
              "       'driver_recent_avg_position', 'driver_recent_avg_qual_position',\n",
              "       'driver_recent_wins', 'driver_recent_podiums', 'driver_circuit_races',\n",
              "       'driver_circuit_avg_position', 'driver_circuit_avg_qual',\n",
              "       'driver_circuit_wins', 'driver_circuit_podiums',\n",
              "       'team_season_avg_position', 'team_season_wins', 'team_season_podiums',\n",
              "       'team_season_points_rate'],\n",
              "      dtype='object')"
            ]
          },
          "execution_count": 17,
          "metadata": {},
          "output_type": "execute_result"
        }
      ],
      "source": [
        "enhanced_combined.columns"
      ]
    },
    {
      "cell_type": "code",
      "execution_count": 18,
      "metadata": {},
      "outputs": [
        {
          "name": "stdout",
          "output_type": "stream",
          "text": [
            "🏎️  ULTIMATE F1 PREDICTION MODEL (2023-2025)\n",
            "============================================================\n",
            "✅ Dataset loaded: 1119 records with 47 features\n",
            "\n",
            "📊 DATA DISTRIBUTION:\n",
            "  2023: 440 records (~22 races), 66 top 3 finishes\n",
            "  2024: 479 records (~23 races), 72 top 3 finishes\n",
            "  2025: 200 records (~10 races), 30 top 3 finishes\n",
            "  Total: 1119 records, 168 top 3 finishes (15.0%)\n",
            "\n",
            "🔍 FEATURE ANALYSIS:\n",
            "Available features: 26/26\n",
            "\n",
            "📋 FINAL DATASET:\n",
            "Feature matrix: (1119, 26)\n",
            "Target distribution: 168/1119 top 3 finishes (15.0%)\n",
            "\n",
            "🔧 PREPROCESSING:\n",
            "Missing values per feature:\n",
            "  driver_recent_avg_position: 32 (2.9%)\n",
            "  team_season_avg_position: 60 (5.4%)\n",
            "  driver_circuit_avg_position: 573 (51.2%)\n",
            "  driver_recent_avg_qual_position: 32 (2.9%)\n",
            "  driver_circuit_avg_qual: 573 (51.2%)\n",
            "  team_season_points_rate: 60 (5.4%)\n",
            "✅ Preprocessing complete\n",
            "\n",
            "📊 TRAIN/TEST STRATEGY:\n",
            "Using time-based split to simulate real-world usage:\n",
            "  Training (2023-2024): 919 samples (15.0% top 3)\n",
            "  Testing (2025): 200 samples (15.0% top 3)\n",
            "\n",
            "🤖 TRAINING ENSEMBLE MODEL:\n",
            "\n",
            "Training Logistic Regression...\n",
            "  Train Accuracy: 0.832\n",
            "  Test Accuracy: 0.880\n",
            "  Test AUC: 0.963\n",
            "  CV AUC: 0.908 (+/- 0.051)\n",
            "\n",
            "Training Random Forest...\n",
            "  Train Accuracy: 0.972\n",
            "  Test Accuracy: 0.930\n",
            "  Test AUC: 0.971\n",
            "  CV AUC: 0.911 (+/- 0.055)\n",
            "\n",
            "Training Gradient Boosting...\n",
            "  Train Accuracy: 1.000\n",
            "  Test Accuracy: 0.905\n",
            "  Test AUC: 0.964\n",
            "  CV AUC: 0.913 (+/- 0.056)\n",
            "\n",
            "🎯 CREATING ENSEMBLE MODEL:\n",
            "Ensemble Test Accuracy: 0.900\n",
            "Ensemble Test AUC: 0.964\n",
            "\n",
            "🏆 FINAL MODEL: Random Forest (AUC: 0.971)\n",
            "\n",
            "📊 DETAILED EVALUATION (Random Forest):\n",
            "Accuracy: 93.0%\n",
            "AUC Score: 0.971\n",
            "\n",
            "Classification Report:\n",
            "              precision    recall  f1-score   support\n",
            "\n",
            "   Not Top 3       0.94      0.98      0.96       170\n",
            "       Top 3       0.83      0.67      0.74        30\n",
            "\n",
            "    accuracy                           0.93       200\n",
            "   macro avg       0.89      0.82      0.85       200\n",
            "weighted avg       0.93      0.93      0.93       200\n",
            "\n",
            "\n",
            "Confusion Matrix:\n",
            "[[166   4]\n",
            " [ 10  20]]\n",
            "\n",
            "🎯 FEATURE IMPORTANCE (Random Forest):\n",
            "  qualifying_position           : 0.223\n",
            "  driver_recent_avg_position    : 0.117\n",
            "  driver_recent_avg_qual_position: 0.088\n",
            "  team_season_avg_position      : 0.075\n",
            "  team_season_points_rate       : 0.065\n",
            "  driver_career_points_rate     : 0.064\n",
            "  driver_recent_podiums         : 0.053\n",
            "  team_season_podiums           : 0.048\n",
            "  driver_career_podiums         : 0.047\n",
            "  driver_career_top5            : 0.036\n",
            "  avg_humidity                  : 0.025\n",
            "  avg_wind_speed                : 0.025\n",
            "  avg_air_temp                  : 0.019\n",
            "  avg_track_temp                : 0.019\n",
            "  driver_races_completed        : 0.017\n",
            "\n",
            "📈 PERFORMANCE ANALYSIS (2025 PREDICTIONS):\n",
            "\n",
            "Performance by qualifying position (2+ races):\n",
            "                     total_races  actual_top3  actual_rate  predicted_top3  \\\n",
            "qualifying_position                                                          \n",
            "1                             10            9          0.9               6   \n",
            "2                             10            9          0.9               7   \n",
            "3                             10            4          0.4               6   \n",
            "4                             10            5          0.5               3   \n",
            "5                             10            1          0.1               2   \n",
            "6                             10            1          0.1               0   \n",
            "7                             10            1          0.1               0   \n",
            "8                             10            0          0.0               0   \n",
            "9                             10            0          0.0               0   \n",
            "10                            10            0          0.0               0   \n",
            "11                            10            0          0.0               0   \n",
            "12                            10            0          0.0               0   \n",
            "13                            10            0          0.0               0   \n",
            "14                            10            0          0.0               0   \n",
            "15                            10            0          0.0               0   \n",
            "\n",
            "                     avg_probability  \n",
            "qualifying_position                   \n",
            "1                              0.578  \n",
            "2                              0.587  \n",
            "3                              0.574  \n",
            "4                              0.465  \n",
            "5                              0.299  \n",
            "6                              0.165  \n",
            "7                              0.157  \n",
            "8                              0.132  \n",
            "9                              0.052  \n",
            "10                             0.096  \n",
            "11                             0.076  \n",
            "12                             0.092  \n",
            "13                             0.053  \n",
            "14                             0.050  \n",
            "15                             0.044  \n",
            "\n",
            "🏁 ACCURACY BY 2025 RACE:\n",
            "  Chinese Grand Prix            : 100.0%\n",
            "  Miami Grand Prix              : 100.0%\n",
            "  Monaco Grand Prix             : 100.0%\n",
            "  Bahrain Grand Prix            : 95.0%\n",
            "  Japanese Grand Prix           : 95.0%\n",
            "  Spanish Grand Prix            : 95.0%\n",
            "  Emilia Romagna Grand Prix     : 90.0%\n",
            "  Saudi Arabian Grand Prix      : 90.0%\n",
            "  Australian Grand Prix         : 85.0%\n",
            "  Canadian Grand Prix           : 80.0%\n",
            "\n",
            "💾 SAVING MODEL COMPONENTS:\n",
            "✅ Model saved as: f1_prediction_model.pkl\n",
            "\n",
            "🎯 MODEL SUMMARY:\n",
            "✅ Final Model: Random Forest\n",
            "✅ Test Accuracy: 93.0%\n",
            "✅ AUC Score: 0.971\n",
            "✅ Training Data: 2023-2024 (919 samples)\n",
            "✅ Validation Data: 2025 (200 samples)\n",
            "✅ Features: 26 predictive variables\n",
            "\n",
            "🚀 READY FOR PRODUCTION:\n",
            "1. ✅ Model trained on comprehensive 3-year dataset\n",
            "2. ✅ Validated on real 2025 race results\n",
            "3. ✅ Feature importance identified\n",
            "4. ✅ Ready for Austrian GP predictions\n",
            "5. ✅ Ready for Streamlit dashboard integration\n",
            "\n",
            "💾 Model components ready for Streamlit:\n",
            "  - final_model: Trained Random Forest\n",
            "  - available_features: List of 26 features\n",
            "  - imputer: Preprocessing pipeline\n",
            "  - Model file: f1_prediction_model.pkl\n"
          ]
        }
      ],
      "source": [
        "import pandas as pd\n",
        "import numpy as np\n",
        "from sklearn.model_selection import cross_val_score\n",
        "from sklearn.ensemble import RandomForestClassifier, GradientBoostingClassifier, VotingClassifier\n",
        "from sklearn.linear_model import LogisticRegression\n",
        "from sklearn.preprocessing import StandardScaler\n",
        "from sklearn.impute import SimpleImputer\n",
        "from sklearn.metrics import classification_report, confusion_matrix, roc_auc_score\n",
        "import joblib\n",
        "from datetime import datetime\n",
        "import warnings\n",
        "warnings.filterwarnings('ignore')\n",
        "\n",
        "print(\"🏎️  ULTIMATE F1 PREDICTION MODEL (2023-2025)\")\n",
        "print(\"=\" * 60)\n",
        "\n",
        "# Check if enhanced_combined is available\n",
        "if 'enhanced_combined' not in locals():\n",
        "    print(\"❌ 'enhanced_combined' dataset not found!\")\n",
        "    print(\"Please ensure feature engineering has been completed.\")\n",
        "else:\n",
        "    df = enhanced_combined.copy()\n",
        "    print(f\"✅ Dataset loaded: {len(df)} records with {len(df.columns)} features\")\n",
        "    \n",
        "    # Create target variable\n",
        "    df['top_3_finish'] = (df['race_position'] <= 3).astype(int)\n",
        "    \n",
        "    # Verify data distribution\n",
        "    print(f\"\\n📊 DATA DISTRIBUTION:\")\n",
        "    year_dist = df['meeting_year'].value_counts().sort_index()\n",
        "    total_top3 = df['top_3_finish'].sum()\n",
        "    for year, count in year_dist.items():\n",
        "        races = count // 20\n",
        "        year_top3 = df[df['meeting_year'] == year]['top_3_finish'].sum()\n",
        "        print(f\"  {year}: {count} records (~{races} races), {year_top3} top 3 finishes\")\n",
        "    \n",
        "    print(f\"  Total: {len(df)} records, {total_top3} top 3 finishes ({total_top3/len(df)*100:.1f}%)\")\n",
        "    \n",
        "    # Enhanced feature selection using your actual columns\n",
        "    feature_columns = [\n",
        "        # Core predictive features\n",
        "        'qualifying_position',\n",
        "        'driver_races_completed', \n",
        "        'driver_recent_avg_position',\n",
        "        'team_season_avg_position',\n",
        "        'driver_circuit_avg_position',\n",
        "        \n",
        "        # Enhanced career performance\n",
        "        'driver_career_wins',\n",
        "        'driver_career_podiums', \n",
        "        'driver_career_top5',\n",
        "        'driver_career_points_rate',\n",
        "        \n",
        "        # Recent form features\n",
        "        'driver_recent_avg_qual_position',\n",
        "        'driver_recent_wins',\n",
        "        'driver_recent_podiums',\n",
        "        \n",
        "        # Circuit-specific performance\n",
        "        'driver_circuit_races',\n",
        "        'driver_circuit_avg_qual',\n",
        "        'driver_circuit_wins',\n",
        "        'driver_circuit_podiums',\n",
        "        \n",
        "        # Team performance\n",
        "        'team_season_wins',\n",
        "        'team_season_podiums', \n",
        "        'team_season_points_rate',\n",
        "        \n",
        "        # Weather conditions\n",
        "        'is_wet_race',\n",
        "        'avg_air_temp',\n",
        "        'avg_track_temp', \n",
        "        'avg_humidity',\n",
        "        'total_rainfall',\n",
        "        'max_rainfall',\n",
        "        'avg_wind_speed'\n",
        "    ]\n",
        "    \n",
        "    # Check feature availability\n",
        "    available_features = [col for col in feature_columns if col in df.columns]\n",
        "    missing_features = [col for col in feature_columns if col not in df.columns]\n",
        "    \n",
        "    print(f\"\\n🔍 FEATURE ANALYSIS:\")\n",
        "    print(f\"Available features: {len(available_features)}/{len(feature_columns)}\")\n",
        "    if missing_features:\n",
        "        print(f\"Missing features: {missing_features}\")\n",
        "    \n",
        "    # Prepare the dataset\n",
        "    X = df[available_features].copy()\n",
        "    y = df['top_3_finish'].copy()\n",
        "    \n",
        "    print(f\"\\n📋 FINAL DATASET:\")\n",
        "    print(f\"Feature matrix: {X.shape}\")\n",
        "    print(f\"Target distribution: {y.sum()}/{len(y)} top 3 finishes ({y.mean()*100:.1f}%)\")\n",
        "    \n",
        "    # Handle missing values\n",
        "    print(f\"\\n🔧 PREPROCESSING:\")\n",
        "    missing_counts = X.isnull().sum()\n",
        "    print(f\"Missing values per feature:\")\n",
        "    for feature, missing in missing_counts[missing_counts > 0].items():\n",
        "        percentage = (missing / len(X)) * 100\n",
        "        print(f\"  {feature}: {missing} ({percentage:.1f}%)\")\n",
        "    \n",
        "    # Convert boolean to integer\n",
        "    bool_columns = X.select_dtypes(include=['bool']).columns\n",
        "    if len(bool_columns) > 0:\n",
        "        X[bool_columns] = X[bool_columns].astype(int)\n",
        "    \n",
        "    # Impute missing values\n",
        "    imputer = SimpleImputer(strategy='median')\n",
        "    X_imputed = imputer.fit_transform(X)\n",
        "    X_processed = pd.DataFrame(X_imputed, columns=available_features, index=X.index)\n",
        "    \n",
        "    print(f\"✅ Preprocessing complete\")\n",
        "    \n",
        "    # Time-based train/test split for realistic evaluation\n",
        "    print(f\"\\n📊 TRAIN/TEST STRATEGY:\")\n",
        "    print(\"Using time-based split to simulate real-world usage:\")\n",
        "    \n",
        "    # Split strategy: 2023-2024 for training, 2025 for testing\n",
        "    train_mask = df['meeting_year'].isin([2023, 2024])\n",
        "    test_mask = df['meeting_year'] == 2025\n",
        "    \n",
        "    X_train = X_processed[train_mask]\n",
        "    X_test = X_processed[test_mask]\n",
        "    y_train = y[train_mask]\n",
        "    y_test = y[test_mask]\n",
        "    \n",
        "    print(f\"  Training (2023-2024): {len(X_train)} samples ({y_train.mean()*100:.1f}% top 3)\")\n",
        "    print(f\"  Testing (2025): {len(X_test)} samples ({y_test.mean()*100:.1f}% top 3)\")\n",
        "    \n",
        "    # Advanced model ensemble\n",
        "    print(f\"\\n🤖 TRAINING ENSEMBLE MODEL:\")\n",
        "    \n",
        "    # Individual models with optimized parameters\n",
        "    models = {\n",
        "        'Logistic Regression': LogisticRegression(\n",
        "            random_state=42, \n",
        "            max_iter=1000,\n",
        "            class_weight='balanced'\n",
        "        ),\n",
        "        'Random Forest': RandomForestClassifier(\n",
        "            random_state=42,\n",
        "            n_estimators=200,\n",
        "            max_depth=10,\n",
        "            min_samples_split=5,\n",
        "            class_weight='balanced'\n",
        "        ),\n",
        "        'Gradient Boosting': GradientBoostingClassifier(\n",
        "            random_state=42,\n",
        "            n_estimators=150,\n",
        "            learning_rate=0.1,\n",
        "            max_depth=6\n",
        "        )\n",
        "    }\n",
        "    \n",
        "    # Scale features for logistic regression\n",
        "    scaler = StandardScaler()\n",
        "    X_train_scaled = scaler.fit_transform(X_train)\n",
        "    X_test_scaled = scaler.transform(X_test)\n",
        "    \n",
        "    results = {}\n",
        "    \n",
        "    # Train individual models\n",
        "    for name, model in models.items():\n",
        "        print(f\"\\nTraining {name}...\")\n",
        "        \n",
        "        # Use scaled data for Logistic Regression\n",
        "        if name == 'Logistic Regression':\n",
        "            X_train_model = X_train_scaled\n",
        "            X_test_model = X_test_scaled\n",
        "        else:\n",
        "            X_train_model = X_train\n",
        "            X_test_model = X_test\n",
        "        \n",
        "        # Train\n",
        "        model.fit(X_train_model, y_train)\n",
        "        \n",
        "        # Evaluate\n",
        "        train_accuracy = model.score(X_train_model, y_train)\n",
        "        test_accuracy = model.score(X_test_model, y_test)\n",
        "        test_auc = roc_auc_score(y_test, model.predict_proba(X_test_model)[:, 1])\n",
        "        \n",
        "        # Cross-validation on training data\n",
        "        cv_scores = cross_val_score(model, X_train_model, y_train, cv=5, scoring='roc_auc')\n",
        "        \n",
        "        results[name] = {\n",
        "            'model': model,\n",
        "            'train_accuracy': train_accuracy,\n",
        "            'test_accuracy': test_accuracy,\n",
        "            'test_auc': test_auc,\n",
        "            'cv_mean': cv_scores.mean(),\n",
        "            'cv_std': cv_scores.std(),\n",
        "            'predictions': model.predict(X_test_model),\n",
        "            'probabilities': model.predict_proba(X_test_model)[:, 1]\n",
        "        }\n",
        "        \n",
        "        print(f\"  Train Accuracy: {train_accuracy:.3f}\")\n",
        "        print(f\"  Test Accuracy: {test_accuracy:.3f}\")\n",
        "        print(f\"  Test AUC: {test_auc:.3f}\")\n",
        "        print(f\"  CV AUC: {cv_scores.mean():.3f} (+/- {cv_scores.std()*2:.3f})\")\n",
        "    \n",
        "    # Create ensemble model\n",
        "    print(f\"\\n🎯 CREATING ENSEMBLE MODEL:\")\n",
        "    ensemble_models = [\n",
        "        ('lr', LogisticRegression(random_state=42, max_iter=1000, class_weight='balanced')),\n",
        "        ('rf', RandomForestClassifier(random_state=42, n_estimators=200, max_depth=10, class_weight='balanced')),\n",
        "        ('gb', GradientBoostingClassifier(random_state=42, n_estimators=150, learning_rate=0.1))\n",
        "    ]\n",
        "    \n",
        "    # Note: For ensemble, we'll use the non-scaled data and let each model handle its own preprocessing\n",
        "    ensemble = VotingClassifier(estimators=ensemble_models, voting='soft')\n",
        "    ensemble.fit(X_train, y_train)\n",
        "    \n",
        "    ensemble_test_accuracy = ensemble.score(X_test, y_test)\n",
        "    ensemble_test_auc = roc_auc_score(y_test, ensemble.predict_proba(X_test)[:, 1])\n",
        "    ensemble_predictions = ensemble.predict(X_test)\n",
        "    ensemble_probabilities = ensemble.predict_proba(X_test)[:, 1]\n",
        "    \n",
        "    print(f\"Ensemble Test Accuracy: {ensemble_test_accuracy:.3f}\")\n",
        "    print(f\"Ensemble Test AUC: {ensemble_test_auc:.3f}\")\n",
        "    \n",
        "    # Find best individual model\n",
        "    best_individual = max(results.keys(), key=lambda k: results[k]['test_auc'])\n",
        "    best_individual_auc = results[best_individual]['test_auc']\n",
        "    \n",
        "    # Choose final model (ensemble vs best individual)\n",
        "    if ensemble_test_auc > best_individual_auc:\n",
        "        final_model_name = \"Ensemble\"\n",
        "        final_model = ensemble\n",
        "        final_predictions = ensemble_predictions\n",
        "        final_probabilities = ensemble_probabilities\n",
        "        final_auc = ensemble_test_auc\n",
        "        final_accuracy = ensemble_test_accuracy\n",
        "        print(f\"\\n🏆 FINAL MODEL: Ensemble (AUC: {final_auc:.3f})\")\n",
        "    else:\n",
        "        final_model_name = best_individual\n",
        "        final_model = results[best_individual]['model']\n",
        "        final_predictions = results[best_individual]['predictions']\n",
        "        final_probabilities = results[best_individual]['probabilities']\n",
        "        final_auc = results[best_individual]['test_auc']\n",
        "        final_accuracy = results[best_individual]['test_accuracy']\n",
        "        print(f\"\\n🏆 FINAL MODEL: {final_model_name} (AUC: {final_auc:.3f})\")\n",
        "    \n",
        "    # Detailed evaluation\n",
        "    print(f\"\\n📊 DETAILED EVALUATION ({final_model_name}):\")\n",
        "    print(f\"Accuracy: {final_accuracy:.1%}\")\n",
        "    print(f\"AUC Score: {final_auc:.3f}\")\n",
        "    \n",
        "    print(\"\\nClassification Report:\")\n",
        "    print(classification_report(y_test, final_predictions, target_names=['Not Top 3', 'Top 3']))\n",
        "    \n",
        "    print(\"\\nConfusion Matrix:\")\n",
        "    cm = confusion_matrix(y_test, final_predictions)\n",
        "    print(cm)\n",
        "    \n",
        "    # Feature importance analysis (for tree-based models)\n",
        "    if final_model_name in ['Random Forest', 'Gradient Boosting']:\n",
        "        feature_importance = pd.DataFrame({\n",
        "            'feature': available_features,\n",
        "            'importance': final_model.feature_importances_\n",
        "        }).sort_values('importance', ascending=False)\n",
        "        \n",
        "        print(f\"\\n🎯 FEATURE IMPORTANCE ({final_model_name}):\")\n",
        "        for idx, row in feature_importance.head(15).iterrows():\n",
        "            print(f\"  {row['feature']:<30}: {row['importance']:.3f}\")\n",
        "    \n",
        "    # Performance analysis by year and qualifying position\n",
        "    test_data = df[test_mask].copy()\n",
        "    test_data['predicted_top3'] = final_predictions\n",
        "    test_data['pred_probability'] = final_probabilities\n",
        "    \n",
        "    print(f\"\\n📈 PERFORMANCE ANALYSIS (2025 PREDICTIONS):\")\n",
        "    \n",
        "    # By qualifying position\n",
        "    qual_analysis = test_data.groupby('qualifying_position').agg({\n",
        "        'top_3_finish': ['count', 'sum', 'mean'],\n",
        "        'predicted_top3': 'sum',\n",
        "        'pred_probability': 'mean'\n",
        "    }).round(3)\n",
        "    \n",
        "    qual_analysis.columns = ['total_races', 'actual_top3', 'actual_rate', 'predicted_top3', 'avg_probability']\n",
        "    qual_analysis = qual_analysis[qual_analysis['total_races'] >= 2]\n",
        "    \n",
        "    print(\"\\nPerformance by qualifying position (2+ races):\")\n",
        "    print(qual_analysis.head(15))\n",
        "    \n",
        "    # Model accuracy by race\n",
        "    race_accuracy = test_data.groupby('meeting_meeting_name').apply(\n",
        "        lambda x: (x['top_3_finish'] == x['predicted_top3']).mean()\n",
        "    ).sort_values(ascending=False)\n",
        "    \n",
        "    print(f\"\\n🏁 ACCURACY BY 2025 RACE:\")\n",
        "    for race, accuracy in race_accuracy.items():\n",
        "        print(f\"  {race:<30}: {accuracy:.1%}\")\n",
        "    \n",
        "    # Save the final model components\n",
        "    print(f\"\\n💾 SAVING MODEL COMPONENTS:\")\n",
        "    \n",
        "    model_package = {\n",
        "        'model': final_model,\n",
        "        'imputer': imputer,\n",
        "        'scaler': scaler if final_model_name == 'Logistic Regression' else None,\n",
        "        'features': available_features,\n",
        "        'model_type': final_model_name,\n",
        "        'model_version': '3.0_ultimate',\n",
        "        'created_date': datetime.now().strftime(\"%Y-%m-%d %H:%M:%S\"),\n",
        "        'performance_metrics': {\n",
        "            'test_accuracy': final_accuracy,\n",
        "            'test_auc': final_auc,\n",
        "            'train_samples': len(X_train),\n",
        "            'test_samples': len(X_test),\n",
        "            'features_count': len(available_features)\n",
        "        },\n",
        "        'training_years': [2023, 2024],\n",
        "        'validation_year': 2025\n",
        "    }\n",
        "    \n",
        "    # Save model\n",
        "    model_filename = 'f1_prediction_model.pkl'\n",
        "    joblib.dump(model_package, model_filename)\n",
        "    print(f\"✅ Model saved as: {model_filename}\")\n",
        "    \n",
        "    print(f\"\\n🎯 MODEL SUMMARY:\")\n",
        "    print(f\"✅ Final Model: {final_model_name}\")\n",
        "    print(f\"✅ Test Accuracy: {final_accuracy:.1%}\")\n",
        "    print(f\"✅ AUC Score: {final_auc:.3f}\")\n",
        "    print(f\"✅ Training Data: 2023-2024 ({len(X_train)} samples)\")\n",
        "    print(f\"✅ Validation Data: 2025 ({len(X_test)} samples)\")\n",
        "    print(f\"✅ Features: {len(available_features)} predictive variables\")\n",
        "    \n",
        "    print(f\"\\n🚀 READY FOR PRODUCTION:\")\n",
        "    print(f\"1. ✅ Model trained on comprehensive 3-year dataset\")\n",
        "    print(f\"2. ✅ Validated on real 2025 race results\") \n",
        "    print(f\"3. ✅ Feature importance identified\")\n",
        "    print(f\"4. ✅ Ready for Austrian GP predictions\")\n",
        "    print(f\"5. ✅ Ready for Streamlit dashboard integration\")\n",
        "    \n",
        "    # Store components for Streamlit\n",
        "    print(f\"\\n💾 Model components ready for Streamlit:\")\n",
        "    print(f\"  - final_model: Trained {final_model_name}\")\n",
        "    print(f\"  - available_features: List of {len(available_features)} features\")\n",
        "    print(f\"  - imputer: Preprocessing pipeline\")\n",
        "    print(f\"  - Model file: {model_filename}\")"
      ]
    },
    {
      "cell_type": "code",
      "execution_count": 19,
      "metadata": {
        "colab": {
          "base_uri": "https://localhost:8080/"
        },
        "id": "NqHS6Wdwaksi",
        "outputId": "c593d9ab-b8d6-495f-faca-83edcb5c0bf4"
      },
      "outputs": [
        {
          "name": "stdout",
          "output_type": "stream",
          "text": [
            "💾 SAVING F1 PREDICTION MODEL\n",
            "========================================\n",
            "🔍 Checking required components:\n",
            "  ✅ final_model: Available\n",
            "  ✅ available_features: Available\n",
            "  ✅ imputer: Available\n",
            "  ❌ enhanced_combine: Missing\n",
            "\n",
            "🔍 Checking optional components:\n",
            "  ✅ scaler: Available\n",
            "  ✅ results: Available\n",
            "  ✅ X_train: Available\n",
            "  ✅ X_test: Available\n",
            "  ✅ y_train: Available\n",
            "  ✅ y_test: Available\n",
            "\n",
            "❌ Cannot create model package - missing required components:\n",
            "  - enhanced_combine\n",
            "\n",
            "🔧 To fix this, make sure you have run:\n",
            "  1. The data collection script (enhanced_combined)\n",
            "  2. The ultimate model training script (final_model, available_features, imputer)\n",
            "\n",
            "📖 TO LOAD THE MODEL LATER:\n",
            "```python\n",
            "import joblib\n",
            "\n",
            "# Load the model\n",
            "model_package = joblib.load('f1_prediction_model.pkl')\n",
            "\n",
            "# Extract components\n",
            "final_model = model_package['model']\n",
            "available_features = model_package['features']\n",
            "imputer = model_package['imputer']\n",
            "```\n",
            "\n",
            "🚀 Ready for Streamlit integration!\n"
          ]
        }
      ],
      "source": [
        "import joblib\n",
        "import pickle\n",
        "import pandas as pd\n",
        "import numpy as np\n",
        "from datetime import datetime\n",
        "\n",
        "print(\"💾 SAVING F1 PREDICTION MODEL\")\n",
        "print(\"=\" * 40)\n",
        "\n",
        "# Check what model components are available\n",
        "components_available = {}\n",
        "required_components = [\n",
        "    'final_model',\n",
        "    'available_features',\n",
        "    'imputer',\n",
        "    'enhanced_combine'  # The training data\n",
        "]\n",
        "\n",
        "optional_components = [\n",
        "    'scaler',\n",
        "    'results',  # Model evaluation results\n",
        "    'X_train',\n",
        "    'X_test',\n",
        "    'y_train',\n",
        "    'y_test'\n",
        "]\n",
        "\n",
        "# Check required components\n",
        "print(\"🔍 Checking required components:\")\n",
        "for component in required_components:\n",
        "    if component in locals() or component in globals():\n",
        "        components_available[component] = True\n",
        "        print(f\"  ✅ {component}: Available\")\n",
        "    else:\n",
        "        components_available[component] = False\n",
        "        print(f\"  ❌ {component}: Missing\")\n",
        "\n",
        "# Check optional components\n",
        "print(\"\\n🔍 Checking optional components:\")\n",
        "for component in optional_components:\n",
        "    if component in locals() or component in globals():\n",
        "        components_available[component] = True\n",
        "        print(f\"  ✅ {component}: Available\")\n",
        "    else:\n",
        "        components_available[component] = False\n",
        "        print(f\"  ⚠️ {component}: Not available (optional)\")\n",
        "\n",
        "# Create model package if we have the essentials\n",
        "if all(components_available[comp] for comp in required_components):\n",
        "    print(f\"\\n💾 Creating model package...\")\n",
        "\n",
        "    # Package all components\n",
        "    model_package = {\n",
        "        'model': final_model,\n",
        "        'features': available_features,\n",
        "        'imputer': imputer,\n",
        "        'training_data': enhanced_combined,\n",
        "        'model_type': 'Logistic Regression',\n",
        "        'model_version': '1.0',\n",
        "        'training_years': [2023, 2024],\n",
        "        'validation_year': 2025,\n",
        "        'created_date': datetime.now().strftime(\"%Y-%m-%d %H:%M:%S\"),\n",
        "        'performance_metrics': {\n",
        "            'test_accuracy': 0.88,  # From your results\n",
        "            'auc_score': 0.964,\n",
        "            'precision_top3': 0.56,\n",
        "            'recall_top3': 1.00\n",
        "        }\n",
        "    }\n",
        "\n",
        "    # Add optional components if available\n",
        "    if components_available['scaler']:\n",
        "        model_package['scaler'] = scaler\n",
        "\n",
        "    if components_available['results']:\n",
        "        model_package['evaluation_results'] = results\n",
        "\n",
        "    # Save using joblib (recommended for sklearn models)\n",
        "    model_filename = 'f1_prediction_model.pkl'\n",
        "    joblib.dump(model_package, model_filename)\n",
        "    print(f\"✅ Model saved as: {model_filename}\")\n",
        "\n",
        "    # Also save a backup using pickle\n",
        "    backup_filename = 'f1_model_backup.pkl'\n",
        "    with open(backup_filename, 'wb') as f:\n",
        "        pickle.dump(model_package, f)\n",
        "    print(f\"✅ Backup saved as: {backup_filename}\")\n",
        "\n",
        "    # Save feature names as text file for reference\n",
        "    features_filename = 'f1_model_features.txt'\n",
        "    with open(features_filename, 'w') as f:\n",
        "        f.write(\"F1 Prediction Model Features\\n\")\n",
        "        f.write(\"=\" * 30 + \"\\n\\n\")\n",
        "        for i, feature in enumerate(available_features, 1):\n",
        "            f.write(f\"{i:2d}. {feature}\\n\")\n",
        "    print(f\"✅ Features list saved as: {features_filename}\")\n",
        "\n",
        "    # Save model summary\n",
        "    summary_filename = 'f1_model_summary.txt'\n",
        "    with open(summary_filename, 'w') as f:\n",
        "        f.write(\"F1 Prediction Model Summary\\n\")\n",
        "        f.write(\"=\" * 30 + \"\\n\\n\")\n",
        "        f.write(f\"Model Type: {model_package['model_type']}\\n\")\n",
        "        f.write(f\"Version: {model_package['model_version']}\\n\")\n",
        "        f.write(f\"Created: {model_package['created_date']}\\n\")\n",
        "        f.write(f\"Training Years: {model_package['training_years']}\\n\")\n",
        "        f.write(f\"Validation Year: {model_package['validation_year']}\\n\\n\")\n",
        "        f.write(\"Performance Metrics:\\n\")\n",
        "        for metric, value in model_package['performance_metrics'].items():\n",
        "            f.write(f\"  {metric}: {value}\\n\")\n",
        "        f.write(f\"\\nNumber of Features: {len(available_features)}\\n\")\n",
        "        f.write(f\"Training Records: {len(enhanced_combined)}\\n\")\n",
        "    print(f\"✅ Summary saved as: {summary_filename}\")\n",
        "\n",
        "    print(f\"\\n🎯 MODEL PACKAGE COMPLETE!\")\n",
        "    print(f\"Files created:\")\n",
        "    print(f\"  📦 {model_filename} - Main model file\")\n",
        "    print(f\"  📦 {backup_filename} - Backup model file\")\n",
        "    print(f\"  📄 {features_filename} - Feature list\")\n",
        "    print(f\"  📄 {summary_filename} - Model summary\")\n",
        "\n",
        "else:\n",
        "    print(f\"\\n❌ Cannot create model package - missing required components:\")\n",
        "    for comp in required_components:\n",
        "        if not components_available[comp]:\n",
        "            print(f\"  - {comp}\")\n",
        "\n",
        "    print(f\"\\n🔧 To fix this, make sure you have run:\")\n",
        "    print(f\"  1. The data collection script (enhanced_combined)\")\n",
        "    print(f\"  2. The ultimate model training script (final_model, available_features, imputer)\")\n",
        "\n",
        "# Function to load the model later\n",
        "def load_f1_model(filename='f1_prediction_model.pkl'):\n",
        "    \"\"\"\n",
        "    Load the saved F1 prediction model\n",
        "\n",
        "    Returns:\n",
        "        dict: Model package with all components\n",
        "    \"\"\"\n",
        "    try:\n",
        "        model_package = joblib.load(filename)\n",
        "        print(f\"✅ Model loaded from {filename}\")\n",
        "        print(f\"  Model type: {model_package['model_type']}\")\n",
        "        print(f\"  Version: {model_package['model_version']}\")\n",
        "        print(f\"  Features: {len(model_package['features'])}\")\n",
        "        return model_package\n",
        "    except Exception as e:\n",
        "        print(f\"❌ Error loading model: {e}\")\n",
        "        return None\n",
        "\n",
        "# Example usage\n",
        "print(f\"\\n📖 TO LOAD THE MODEL LATER:\")\n",
        "print(f\"```python\")\n",
        "print(f\"import joblib\")\n",
        "print(f\"\")\n",
        "print(f\"# Load the model\")\n",
        "print(f\"model_package = joblib.load('f1_prediction_model.pkl')\")\n",
        "print(f\"\")\n",
        "print(f\"# Extract components\")\n",
        "print(f\"final_model = model_package['model']\")\n",
        "print(f\"available_features = model_package['features']\")\n",
        "print(f\"imputer = model_package['imputer']\")\n",
        "print(f\"```\")\n",
        "\n",
        "print(f\"\\n🚀 Ready for Streamlit integration!\")"
      ]
    }
  ],
  "metadata": {
    "colab": {
      "provenance": []
    },
    "kernelspec": {
      "display_name": "base",
      "language": "python",
      "name": "python3"
    },
    "language_info": {
      "codemirror_mode": {
        "name": "ipython",
        "version": 3
      },
      "file_extension": ".py",
      "mimetype": "text/x-python",
      "name": "python",
      "nbconvert_exporter": "python",
      "pygments_lexer": "ipython3",
      "version": "3.9.18"
    }
  },
  "nbformat": 4,
  "nbformat_minor": 0
}
